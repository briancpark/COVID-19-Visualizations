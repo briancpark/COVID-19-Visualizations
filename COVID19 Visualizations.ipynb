{
 "cells": [
  {
   "cell_type": "markdown",
   "metadata": {},
   "source": [
    "#  COVID-19: DATA SCIENCE AND MACHINE LEARNING VISUALIZATIONS\n",
    "\n",
    "I am currently using the [NYTimes](https://github.com/nytimes/covid-19-data) and [JHU CSSE](https://github.com/CSSEGISandData/COVID-19) database in this notebook. NYTimes is for USA data and JHU CSSE is for international data. Conveniently, they are all written in `.csv` files which Pandas can take great advantage of.\n",
    "\n",
    "If you are planning to run the notebook on your own computer, please make sure you have all the dependencies installed! "
   ]
  },
  {
   "cell_type": "code",
   "execution_count": null,
   "metadata": {
    "scrolled": true
   },
   "outputs": [],
   "source": [
    "import pandas as pd\n",
    "import numpy as np\n",
    "import matplotlib\n",
    "import matplotlib.pyplot as plt\n",
    "import geopandas\n",
    "import pycountry\n",
    "import plotly\n",
    "import plotly.express as px\n",
    "import plotly.figure_factory as ff\n",
    "import time\n",
    "from datetime import datetime\n",
    "import json\n",
    "import os\n",
    "from urllib.request import urlopen\n",
    "from selenium import webdriver\n",
    "from webdriver_manager.chrome import ChromeDriverManager\n",
    "from pathlib import Path\n",
    "\n",
    "%matplotlib inline\n",
    "\n",
    "with urlopen('https://raw.githubusercontent.com/plotly/datasets/master/geojson-counties-fips.json') as response:\n",
    "        counties = json.load(response)\n",
    "\n",
    "plotly.io.orca.config.executable = '/path/to/orca'\n",
    "plotly.io.orca.config.save()"
   ]
  },
  {
   "cell_type": "markdown",
   "metadata": {},
   "source": [
    "## Pulling the Databases\n",
    "For cloning the repository that contain the databases, I used `.gitignore` to prevent pushing large files to this repository. I do not modify the directories that contain the databases and I leave them as is."
   ]
  },
  {
   "cell_type": "code",
   "execution_count": null,
   "metadata": {},
   "outputs": [],
   "source": [
    "#Please run this cell if databases directory is empty!\n",
    "#!git clone https://github.com/CSSEGISandData/COVID-19 databases/jhucsse\n",
    "#!git clone https://github.com/nytimes/covid-19-data databases/nytimes"
   ]
  },
  {
   "cell_type": "markdown",
   "metadata": {},
   "source": [
    "Run the cells below to get the most recent databases!"
   ]
  },
  {
   "cell_type": "code",
   "execution_count": null,
   "metadata": {},
   "outputs": [],
   "source": [
    "!git -C databases/jhucsse pull origin master\n",
    "!ls databases/jhucsse"
   ]
  },
  {
   "cell_type": "code",
   "execution_count": null,
   "metadata": {},
   "outputs": [],
   "source": [
    "!git -C databases/nytimes pull origin master\n",
    "!ls databases/nytimes"
   ]
  },
  {
   "cell_type": "markdown",
   "metadata": {},
   "source": [
    "## Load `.csv` Files into Pandas DataFrames\n",
    "All the recent databases are pulled from GitHub"
   ]
  },
  {
   "cell_type": "code",
   "execution_count": null,
   "metadata": {},
   "outputs": [],
   "source": [
    "COVID19_confirmed = pd.read_csv(\"databases/jhucsse/csse_covid_19_data/csse_covid_19_time_series/time_series_covid19_confirmed_global.csv\")\n",
    "COVID19_deaths = pd.read_csv(\"databases/jhucsse/csse_covid_19_data/csse_covid_19_time_series/time_series_covid19_deaths_global.csv\")\n",
    "COVID19_recovered = pd.read_csv(\"databases/jhucsse/csse_covid_19_data/csse_covid_19_time_series/time_series_covid19_recovered_global.csv\")\n",
    "\n",
    "#Global variables\n",
    "databases = [COVID19_confirmed, COVID19_deaths, COVID19_recovered]\n",
    "dataset = [(COVID19_confirmed, \"confirmed\"), (COVID19_deaths, \"deaths\"), (COVID19_recovered, \"recovered\")]\n",
    "\n",
    "all_countries = list(COVID19_confirmed['Country/Region'])\n",
    "all_countries = list(dict.fromkeys(all_countries))\n",
    "\n",
    "dates = list(COVID19_confirmed.columns)\n",
    "dates.remove('Country/Region')\n",
    "dates.remove('Province/State')\n",
    "dates.remove('Lat')\n",
    "dates.remove('Long')"
   ]
  },
  {
   "cell_type": "code",
   "execution_count": null,
   "metadata": {},
   "outputs": [],
   "source": [
    "COVID19_US = pd.read_csv(\"databases/nytimes/us.csv\") #Already provided with the JHU CSSE\n",
    "COVID19_US_states = pd.read_csv(\"databases/nytimes/us-states.csv\")\n",
    "COVID19_US_counties = pd.read_csv(\"databases/nytimes/us-counties.csv\", dtype={\"fips\": str})\n",
    "\n",
    "COVID19_US_states = COVID19_US_states.sort_values(by=['date'])\n",
    "\n",
    "states = list(set(COVID19_US_states['state'].tolist()))"
   ]
  },
  {
   "cell_type": "markdown",
   "metadata": {},
   "source": [
    "## Data Cleaning\n",
    "Cleaning unnecessary data."
   ]
  },
  {
   "cell_type": "code",
   "execution_count": null,
   "metadata": {},
   "outputs": [],
   "source": [
    "def data_clean(data):\n",
    "    data = data.drop(['Province/State', 'Lat', 'Long'], axis=1)\n",
    "    data = data.groupby(['Country/Region'])[dates].sum()\n",
    "    data.columns = pd.to_datetime(data.columns)\n",
    "    return data"
   ]
  },
  {
   "cell_type": "code",
   "execution_count": null,
   "metadata": {},
   "outputs": [],
   "source": [
    "COVID19_confirmed = data_clean(COVID19_confirmed)\n",
    "COVID19_deaths = data_clean(COVID19_deaths)\n",
    "COVID19_recovered = data_clean(COVID19_recovered)\n",
    "dataset = [(COVID19_confirmed, \"confirmed\"), (COVID19_deaths, \"deaths\"), (COVID19_recovered, \"recovered\")]"
   ]
  },
  {
   "cell_type": "markdown",
   "metadata": {},
   "source": [
    "## Data Charts with Worldwide Data\n",
    "Functions to compile graphs"
   ]
  },
  {
   "cell_type": "code",
   "execution_count": null,
   "metadata": {},
   "outputs": [],
   "source": [
    "def cases_country(country_name, data, label=None):\n",
    "    country_plot = data.loc[country_name]\n",
    "    country_plot = country_plot.sort_index().plot(label=label)\n",
    "    \n",
    "    if data.equals(COVID19_confirmed):\n",
    "        data_label = \"Confirmed Cases\"\n",
    "    elif data.equals(COVID19_recovered):\n",
    "        data_label = \"Recovered\"\n",
    "    else:\n",
    "        data_label = \"Deaths\"\n",
    "    \n",
    "    #Labelings\n",
    "    country_plot.set_ylabel(\"Number of \" + data_label)\n",
    "    country_plot.set_xlabel(\"Day\")\n",
    "    country_plot.set_title(data_label + \" in \" + country_name)\n",
    "    return country_plot"
   ]
  },
  {
   "cell_type": "code",
   "execution_count": null,
   "metadata": {},
   "outputs": [],
   "source": [
    "def update_all_cases_country_individual():\n",
    "    for country in all_countries:\n",
    "        for data in dataset:\n",
    "            cases_country(country, data[0])\n",
    "            plt.savefig(\"cases_country_individual/\" + country + \"_\" + data[1] + \".png\")\n",
    "            plt.tight_layout()\n",
    "            plt.clf()"
   ]
  },
  {
   "cell_type": "code",
   "execution_count": null,
   "metadata": {},
   "outputs": [],
   "source": [
    "def all_cases_country(country_name):\n",
    "    for data in dataset:\n",
    "        plt = cases_country(country_name, data[0], label=data[1])\n",
    "    \n",
    "    #Labelings\n",
    "    plt.set_ylabel(\"Number of Cases\")\n",
    "    plt.set_xlabel(\"Day\")\n",
    "    plt.set_title(\"COVID-19 in \" + country_name)\n",
    "    plt.legend()\n",
    "    return plt"
   ]
  },
  {
   "cell_type": "code",
   "execution_count": null,
   "metadata": {},
   "outputs": [],
   "source": [
    "def update_all_cases_country():\n",
    "    for country in all_countries:\n",
    "        all_cases_country(country)\n",
    "        plt.savefig(\"cases_country/\" + country + \"_all.png\")\n",
    "        plt.tight_layout()\n",
    "        plt.clf()"
   ]
  },
  {
   "cell_type": "code",
   "execution_count": null,
   "metadata": {},
   "outputs": [],
   "source": [
    "def worldwide_cases():\n",
    "    world = COVID19_confirmed.sum().plot(label=\"confirmed\")\n",
    "    world = COVID19_deaths.sum().plot(label=\"deaths\")\n",
    "    world = COVID19_recovered.sum().plot(label=\"recovered\")\n",
    "\n",
    "    #Labelings\n",
    "    world.set_ylabel(\"Number of Cases\")\n",
    "    world.set_xlabel(\"Day\")\n",
    "    world.set_title(\"COVID-19 Worldwide\")\n",
    "    world.legend()\n",
    "    plt.savefig(\"COVID19_worldwide\")\n",
    "    return world"
   ]
  },
  {
   "cell_type": "code",
   "execution_count": null,
   "metadata": {},
   "outputs": [],
   "source": [
    "def cases_country_active(country_name):\n",
    "    \"\"\"\n",
    "    active = confirmed - deaths - recovered\n",
    "    \"\"\"\n",
    "    confirmed = COVID19_confirmed.loc[country_name]\n",
    "    deaths = COVID19_deaths.loc[country_name]\n",
    "    recovered = COVID19_recovered.loc[country_name]\n",
    "    \n",
    "    active = confirmed - deaths - recovered\n",
    "\n",
    "    active = active.plot()\n",
    "    active.set_ylabel(\"Number of Active Cases\")\n",
    "    active.set_xlabel(\"Day\")\n",
    "    active.set_title(\"Active COVID-19 Cases in \" + country_name)"
   ]
  },
  {
   "cell_type": "code",
   "execution_count": null,
   "metadata": {},
   "outputs": [],
   "source": [
    "def update_all_cases_country_active():    \n",
    "    for country in all_countries:\n",
    "        cases_country_active(country)\n",
    "        plt.savefig(\"cases_country_active/\" + country + \"_active_cases.png\")\n",
    "        plt.tight_layout()\n",
    "        plt.clf()"
   ]
  },
  {
   "cell_type": "code",
   "execution_count": null,
   "metadata": {},
   "outputs": [],
   "source": [
    "def worldwide_active():\n",
    "    confirmed = COVID19_confirmed.sum()\n",
    "    deaths = COVID19_deaths.sum()\n",
    "    recovered = COVID19_recovered.sum()\n",
    "    \n",
    "    active = confirmed - deaths - recovered\n",
    "    active = active.plot()\n",
    "\n",
    "    #Labelings\n",
    "    active.set_ylabel(\"Number of Active Cases\")\n",
    "    active.set_xlabel(\"Day\")\n",
    "    active.set_title(\"COVID-19 Active Cases Worldwide\")\n",
    "    \n",
    "    plt.savefig(\"COVID19_worldwide_active.png\")\n",
    "    return active"
   ]
  },
  {
   "cell_type": "code",
   "execution_count": null,
   "metadata": {},
   "outputs": [],
   "source": [
    "#Still testing and experimenting\n",
    "def compare_countries(list_countries):    \n",
    "    for country in list_countries:\n",
    "        for data in dataset:\n",
    "            country_data = data[0]\n",
    "            country_data = country_data.loc[country]\n",
    "            country_data = country_data.plot(label=data[1] + \" in \" + str(country))\n",
    "\n",
    "    country_data.set_ylabel(\"Number of Cases\")\n",
    "    country_data.set_xlabel(\"Day\")\n",
    "    country_data.set_title(\"COVID-19 in \" + str(list(list_countries)))\n",
    "    country_data.legend()\n",
    "    \n",
    "    #plt.savefig(str(list_countries) + \".png\")\n",
    "    \n",
    "compare_countries(['US'])"
   ]
  },
  {
   "cell_type": "code",
   "execution_count": null,
   "metadata": {},
   "outputs": [],
   "source": [
    "update_all_cases_country_individual()"
   ]
  },
  {
   "cell_type": "code",
   "execution_count": null,
   "metadata": {},
   "outputs": [],
   "source": [
    "update_all_cases_country()"
   ]
  },
  {
   "cell_type": "code",
   "execution_count": null,
   "metadata": {},
   "outputs": [],
   "source": [
    "worldwide_cases()"
   ]
  },
  {
   "cell_type": "code",
   "execution_count": null,
   "metadata": {},
   "outputs": [],
   "source": [
    "update_all_cases_country_active()"
   ]
  },
  {
   "cell_type": "code",
   "execution_count": null,
   "metadata": {},
   "outputs": [],
   "source": [
    "worldwide_active()"
   ]
  },
  {
   "cell_type": "markdown",
   "metadata": {},
   "source": [
    "## Data with US Data\n",
    "Functions that chart US data, from the NYTimes database."
   ]
  },
  {
   "cell_type": "code",
   "execution_count": null,
   "metadata": {},
   "outputs": [],
   "source": [
    "def cases_by_state(state):\n",
    "    df = COVID19_US_states.loc[COVID19_US_states['state'] == state].drop(['fips'], axis=1)\n",
    "    pd.to_datetime(df['date'])\n",
    "    \n",
    "    df = df.set_index(df['date']).drop(['date'], axis=1)\n",
    "    df = df.sort_values(by=['date'])\n",
    "\n",
    "    #return df\n",
    "    return df.plot()"
   ]
  },
  {
   "cell_type": "code",
   "execution_count": null,
   "metadata": {},
   "outputs": [],
   "source": [
    "def update_states():\n",
    "    for state in states:\n",
    "        us_cases = cases_by_state(state)\n",
    "        \n",
    "        us_cases.set_ylabel(\"Cases\")\n",
    "        us_cases.set_xlabel(\"Day\")\n",
    "        us_cases.set_title(\"COVID-19 Cases in \" + str(state))\n",
    "        \n",
    "        plt.savefig(\"cases_us_states/\" + str(state) + \".png\")\n",
    "        plt.clf"
   ]
  },
  {
   "cell_type": "code",
   "execution_count": null,
   "metadata": {},
   "outputs": [],
   "source": [
    "cases_by_state('Washington')\n",
    "update_states()"
   ]
  },
  {
   "cell_type": "markdown",
   "metadata": {},
   "source": [
    "# Visualizations with Global Data"
   ]
  },
  {
   "cell_type": "code",
   "execution_count": null,
   "metadata": {},
   "outputs": [],
   "source": [
    "world = geopandas.read_file(geopandas.datasets.get_path('naturalearth_lowres'))"
   ]
  },
  {
   "cell_type": "code",
   "execution_count": null,
   "metadata": {},
   "outputs": [],
   "source": [
    "COVID19_geo_confirmed = dataset[0][0]\n",
    "COVID19_geo_deaths = dataset[1][0]\n",
    "COVID19_geo_recovered = dataset[2][0]\n",
    "\n",
    "COVID19_geo_confirmed.reset_index(level=0, inplace=True)\n",
    "COVID19_geo_deaths.reset_index(level=0, inplace=True)\n",
    "COVID19_geo_recovered.reset_index(level=0, inplace=True)\n",
    "\n",
    "COVID19_geo_confirmed = COVID19_geo_confirmed.rename(columns={\"Country/Region\" : \"name\"})\n",
    "COVID19_geo_deaths = COVID19_geo_deaths.rename(columns={\"Country/Region\" : \"name\"})\n",
    "COVID19_geo_recovered = COVID19_geo_recovered.rename(columns={\"Country/Region\" : \"name\"})\n",
    "\n",
    "COVID19_geo_confirmed = COVID19_geo_confirmed.replace({'Taiwan*': 'Taiwan', 'Korea, South': 'South Korea', 'US' : 'United States of America'})\n",
    "COVID19_geo_deaths = COVID19_geo_deaths.replace({'Taiwan*': 'Taiwan', 'Korea, South': 'South Korea', 'US' : 'United States of America'})\n",
    "COVID19_geo_recovered = COVID19_geo_recovered.replace({'Taiwan*': 'Taiwan', 'Korea, South': 'South Korea', 'US' : 'United States of America'})\n",
    "\n",
    "#Delete any islands and Antartica\n",
    "world_confirmed = world.merge(COVID19_geo_confirmed, how = 'inner', on = 'name')\n",
    "world_confirmed = world_confirmed[(world_confirmed.pop_est>0) & (world_confirmed.name!=\"Antarctica\")]\n",
    "\n",
    "world_deaths = world.merge(COVID19_geo_deaths, how = 'inner', on = 'name')\n",
    "world_deaths = world_deaths[(world_deaths.pop_est>0) & (world_deaths.name!=\"Antarctica\")]\n",
    "\n",
    "world_recovered = world.merge(COVID19_geo_recovered, how = 'inner', on = 'name')\n",
    "world_recovered = world_recovered[(world_recovered.pop_est>0) & (world_recovered.name!=\"Antarctica\")]"
   ]
  },
  {
   "cell_type": "code",
   "execution_count": null,
   "metadata": {},
   "outputs": [],
   "source": [
    "dates = list(COVID19_geo_confirmed)\n",
    "dates.remove('name')\n",
    "dates.sort()"
   ]
  },
  {
   "cell_type": "code",
   "execution_count": null,
   "metadata": {},
   "outputs": [],
   "source": [
    "def geo_confirmed_corona(data):    \n",
    "    for i in range(len(dates)):\n",
    "        fig, ax = plt.subplots(1, 1)\n",
    "\n",
    "        world_confirmed.plot(column=dates[i],\n",
    "                   cmap='Reds',\n",
    "                   ax=ax,\n",
    "                   legend=True,\n",
    "                   legend_kwds={'label': \"Population by Country\",\n",
    "                                'orientation': \"horizontal\"})\n",
    "\n",
    "        #Save the figure\n",
    "        fig = matplotlib.pyplot.gcf()\n",
    "        fig.set_size_inches(20, 10)\n",
    "        fig.savefig('geo/geo_confirmed_normalized/' + str(i).zfill(3) + '.png', dpi=100)\n",
    "        plt.close(fig)"
   ]
  },
  {
   "cell_type": "code",
   "execution_count": null,
   "metadata": {},
   "outputs": [],
   "source": [
    "def geo_deaths_corona(data):\n",
    "    for i in range(len(dates)):\n",
    "        fig, ax = plt.subplots(1, 1)\n",
    "\n",
    "        world_deaths.plot(column=dates[i],\n",
    "                   cmap='Greys',\n",
    "                   ax=ax,\n",
    "                   legend=True,\n",
    "                   legend_kwds={'label': \"Population by Country\",'orientation': \"horizontal\"})\n",
    "\n",
    "        #Save the figure\n",
    "        fig = matplotlib.pyplot.gcf()\n",
    "        fig.set_size_inches(20, 10)\n",
    "        fig.savefig('geo/geo_deaths_normalized/' + str(i).zfill(3) + '.png', dpi=100)\n",
    "        plt.close(fig)"
   ]
  },
  {
   "cell_type": "code",
   "execution_count": null,
   "metadata": {},
   "outputs": [],
   "source": [
    "def geo_recovered_corona(data):\n",
    "    for i in range(len(dates)):\n",
    "        fig, ax = plt.subplots(1, 1)\n",
    "\n",
    "        world_recovered.plot(column=dates[i],\n",
    "                   cmap='Greens',\n",
    "                   ax=ax,\n",
    "                   legend=True,\n",
    "                   legend_kwds={'label': \"Population by Country\",'orientation': \"horizontal\"})\n",
    "\n",
    "        #Save the figure\n",
    "        fig = matplotlib.pyplot.gcf()\n",
    "        fig.set_size_inches(20, 10)\n",
    "        fig.savefig('geo/geo_recovered_normalized/' + str(i).zfill(3) + '.png', dpi=100)\n",
    "        plt.close(fig)"
   ]
  },
  {
   "cell_type": "code",
   "execution_count": null,
   "metadata": {},
   "outputs": [],
   "source": [
    "geo_confirmed_corona(COVID19_geo_confirmed)\n",
    "geo_deaths_corona(COVID19_geo_deaths)\n",
    "geo_recovered_corona(COVID19_geo_recovered)"
   ]
  },
  {
   "cell_type": "code",
   "execution_count": null,
   "metadata": {},
   "outputs": [],
   "source": [
    "#New color theme to display color gradients\n",
    "Solarcorona = ['rgb(252, 222, 156)', 'rgb(250, 164, 118)', 'rgb(240, 116, 110)', 'rgb(227, 79, 111)', 'rgb(220, 57, 119)', 'rgb(185, 37, 122)', 'rgb(124, 29, 111)', '#1b0c41', '#000004']"
   ]
  },
  {
   "cell_type": "code",
   "execution_count": null,
   "metadata": {},
   "outputs": [],
   "source": [
    "#SCRAP PREVIOUS\n",
    "#New dataframes\n",
    "mapping = {country.name: country.alpha_3 for country in pycountry.countries}\n",
    "geo_confirmed = COVID19_confirmed.rename(index={'Korea, South': 'Korea, Republic of', 'US' :'United States', 'Taiwan*' :'Taiwan, Province of China', 'Vietnam':'Viet Nam', 'Russia': 'Russian Federation', 'Iran': 'Iran, Islamic Republic of', 'Tanzania': 'Tanzania, United Republic of', 'Laos': \"Lao People's Democratic Republic\", 'Syria': 'Syrian Arab Republic', 'Brunei': 'Brunei Darussalam', 'Venezuela': 'Venezuela, Bolivarian Republic of', 'Bolivia':  'Bolivia, Plurinational State of', 'Moldova': 'Moldova, Republic of'}).rename(index = lambda name: mapping.get(name))\n",
    "geo_deaths = COVID19_deaths.rename(index={'Korea, South': 'Korea, Republic of', 'US' :'United States', 'Taiwan*' :'Taiwan, Province of China', 'Vietnam':'Viet Nam', 'Russia': 'Russian Federation', 'Iran': 'Iran, Islamic Republic of', 'Tanzania': 'Tanzania, United Republic of', 'Laos': \"Lao People's Democratic Republic\", 'Syria': 'Syrian Arab Republic', 'Brunei': 'Brunei Darussalam', 'Venezuela': 'Venezuela, Bolivarian Republic of', 'Bolivia':  'Bolivia, Plurinational State of', 'Moldova': 'Moldova, Republic of'}).rename(index = lambda name: mapping.get(name))\n",
    "geo_recovered = COVID19_recovered.rename(index={'Korea, South': 'Korea, Republic of', 'US' :'United States', 'Taiwan*' :'Taiwan, Province of China', 'Vietnam':'Viet Nam', 'Russia': 'Russian Federation', 'Iran': 'Iran, Islamic Republic of', 'Tanzania': 'Tanzania, United Republic of', 'Laos': \"Lao People's Democratic Republic\", 'Syria': 'Syrian Arab Republic', 'Brunei': 'Brunei Darussalam', 'Venezuela': 'Venezuela, Bolivarian Republic of', 'Bolivia':  'Bolivia, Plurinational State of', 'Moldova': 'Moldova, Republic of'}).rename(index = lambda name: mapping.get(name))"
   ]
  },
  {
   "cell_type": "code",
   "execution_count": null,
   "metadata": {},
   "outputs": [],
   "source": [
    "#confirmed 500000\n",
    "#deaths 10000\n",
    "#recovered 100000\n",
    "\n",
    "def geo_frames(df, file, case_range):\n",
    "    for i in range(len(geo_confirmed.columns)):\n",
    "        fig = px.choropleth(df, locations=df.index,\n",
    "                            color=geo_confirmed.columns[i],\n",
    "                            range_color=(0, case_range),\n",
    "                            color_continuous_scale=Solarcorona,\n",
    "                           )\n",
    "\n",
    "        fig.update_layout(\n",
    "            title_text = 'COVID-19 Cases Confirmed                        GitHub: briancpark',\n",
    "        )\n",
    "\n",
    "        #fig.show()\n",
    "        fig.write_html(\"geo/\" + file + \"_html/\" + str(i).zfill(3) + \".html\")\n",
    "        \n",
    "#geo_frames(geo_confirmed, \"geo_confirmed\", 200000)"
   ]
  },
  {
   "cell_type": "code",
   "execution_count": null,
   "metadata": {},
   "outputs": [],
   "source": [
    "\"\"\"\n",
    "for i in range(len(geo_confirmed.columns)):\n",
    "    driver = webdriver.Chrome(ChromeDriverManager().install())\n",
    "    driver.get(\"file:///Users/brianpark/Desktop/PUBLISHED%20Projects/COVID19/geo/geo_confirmed_html/\" + str(i).zfill(3) + \".html\")\n",
    "    time.sleep(3)\n",
    "    driver.save_screenshot(\"geo/geo_confirmed/\" + str(i).zfill(3) + \".png\")\n",
    "    driver.close()\n",
    "\"\"\""
   ]
  },
  {
   "cell_type": "code",
   "execution_count": null,
   "metadata": {},
   "outputs": [],
   "source": [
    "#len(geo_confirmed.columns)"
   ]
  },
  {
   "cell_type": "markdown",
   "metadata": {},
   "source": [
    "# Visualizations with US Data\n",
    "For some reason, plotly doesn't want to work when `write_image()` is called, so I used selenium instead to screenshot. Not a very convenient way, but in the end it gives high quality graphs."
   ]
  },
  {
   "cell_type": "code",
   "execution_count": null,
   "metadata": {},
   "outputs": [],
   "source": [
    "dates = list(set(list(COVID19_US_states['date'])))\n",
    "dates.sort(key = lambda date: datetime.strptime(date, '%Y-%m-%d')) \n",
    "states = list(set(list(COVID19_US_states['state'])))"
   ]
  },
  {
   "cell_type": "code",
   "execution_count": null,
   "metadata": {},
   "outputs": [],
   "source": [
    "def create_html(i, data_type, data_label, color_gradient, max_cases, date):\n",
    "    df = COVID19_US_counties#pd.read_csv(\"databases/nytimes/us-counties.csv\", dtype={\"fips\": str})\n",
    "    df = df[df['date']==date]\n",
    "\n",
    "    fig = px.choropleth(df, geojson=counties, locations='fips', color=data_type,\n",
    "                               color_continuous_scale=color_gradient,\n",
    "                               range_color=(0, max_cases),\n",
    "                               scope=\"usa\",\n",
    "                               labels={data_type:data_type}\n",
    "                              )\n",
    "    fig.update_layout(title_text = 'USA COVID-19 ' + data_label + ' by County on ' + str(date) + \"              GitHub:briancpark\")\n",
    "    fig.write_html(\"geo/geo_us_\" + data_type + \"_html/\" + str(i).zfill(3) + \".html\")"
   ]
  },
  {
   "cell_type": "code",
   "execution_count": null,
   "metadata": {
    "scrolled": false
   },
   "outputs": [],
   "source": [
    "def update_us_cases_by_counties(max_cases):\n",
    "        \n",
    "    i = 0\n",
    "\n",
    "    for date in dates:\n",
    "        create_html(i, 'cases', 'Cases', \"Sunsetdark\", max_cases, date)       \n",
    "        i = i + 1"
   ]
  },
  {
   "cell_type": "code",
   "execution_count": null,
   "metadata": {},
   "outputs": [],
   "source": [
    "def update_us_deaths_by_counties(max_cases):\n",
    "    i = 0\n",
    "    \n",
    "    for date in dates:\n",
    "        create_html(i, 'deaths', 'Deaths', \"Greys\", max_cases, date)\n",
    "        i = i + 1"
   ]
  },
  {
   "cell_type": "code",
   "execution_count": null,
   "metadata": {},
   "outputs": [],
   "source": [
    "def convert_to_png(file, limit):\n",
    "    if file == \"confirmed\":\n",
    "        directory = \"geo_us_cases\"\n",
    "    else:\n",
    "        directory = \"geo_us_deaths\"\n",
    "    \n",
    "    for i in range(len(dates) - limit, len(dates)):\n",
    "        driver = webdriver.Chrome(ChromeDriverManager().install())\n",
    "        driver.get(\"file:///Users/brianpark/Projects/COVID19/geo/\" + directory + \"_html/\" + str(i).zfill(3) + \".html\")\n",
    "        time.sleep(3)\n",
    "        driver.save_screenshot(\"geo/\" + directory + \"/\" + str(i).zfill(3) + \".png\")\n",
    "        driver.close()"
   ]
  },
  {
   "cell_type": "markdown",
   "metadata": {},
   "source": [
    "## Compile Timelapses\n",
    "Create beautiful, and yet alarming dynamic graphs that implement time with COVID-19. `ffmpeg` is used to compile the `.gif` and `.mp4` files. Please make sure you have that installed. Can be simply done in your terminal via `pip install ffmpeg`"
   ]
  },
  {
   "cell_type": "code",
   "execution_count": 1,
   "metadata": {},
   "outputs": [],
   "source": [
    "def compile_timelapse():\n",
    "    !rm timelapses/global_confirmed_timelapse.mp4\n",
    "    !rm timelapses/global_deaths_timelapse.mp4\n",
    "    !rm timelapses/global_recovered_timelapse.mp4\n",
    "    \n",
    "    !rm timelapses/global_confirmed_timelapse.gif\n",
    "    !rm timelapses/global_deaths_timelapse.gif\n",
    "    !rm timelapses/global_recovered_timelapse.gif\n",
    "    \n",
    "    !ffmpeg -r 15 -i geo/geo_confirmed/%03d.png -c:v libx264 -r 30 -pix_fmt yuv420p timelapses/global_confirmed_timelapse.mp4\n",
    "    !ffmpeg -r 15 -i geo/geo_deaths/%03d.png -c:v libx264 -r 30 -pix_fmt yuv420p timelapses/global_deaths_timelapse.mp4\n",
    "    !ffmpeg -r 15 -i geo/geo_recovered/%03d.png -c:v libx26|4 -r 30 -pix_fmt yuv420p timelapses/global_recovered_timelapse.mp4\n",
    "        \n",
    "    !ffmpeg -i timelapses/global_confirmed_timelapse.mp4 timelapses/global_confirmed_timelapse.gif\n",
    "    !ffmpeg -i timelapses/global_deaths_timelapse.mp4 timelapses/global_deaths_timelapse.gif\n",
    "    !ffmpeg -i timelapses/global_recovered_timelapse.mp4 timelapses/global_recovered_timelapse.gif\n",
    "    \n",
    "    !rm timelapses/global_confirmed_normalized_timelapse.mp4\n",
    "    !rm timelapses/global_deaths_normalized_timelapse.mp4\n",
    "    !rm timelapses/global_recovered_normalized_timelapse.mp4\n",
    "    \n",
    "    !rm timelapses/global_confirmed_normalized_timelapse.gif\n",
    "    !rm timelapses/global_deaths_normalized_timelapse.gif\n",
    "    !rm timelapses/global_recovered_normalized_timelapse.gif\n",
    "    \n",
    "    !ffmpeg -r 15 -i geo/geo_confirmed_normalized/%03d.png -c:v libx264 -r 30 -pix_fmt yuv420p timelapses/global_confirmed_normalized_timelapse.mp4\n",
    "    !ffmpeg -r 15 -i geo/geo_deaths_normalized/%03d.png -c:v libx264 -r 30 -pix_fmt yuv420p timelapses/global_deaths_normalized_timelapse.mp4\n",
    "    !ffmpeg -r 15 -i geo/geo_recovered_normalized/%03d.png -c:v libx264 -r 30 -pix_fmt yuv420p timelapses/global_recovered_normalized_timelapse.mp4\n",
    "        \n",
    "    !ffmpeg -i timelapses/global_confirmed_normalized_timelapse.mp4 timelapses/global_confirmed_normalized_timelapse.gif\n",
    "    !ffmpeg -i timelapses/global_deaths_normalized_timelapse.mp4 timelapses/global_deaths_normalized_timelapse.gif\n",
    "    !ffmpeg -i timelapses/global_recovered_normalized_timelapse.mp4 timelapses/global_recovered_normalized_timelapse.gif\n",
    "    \n",
    "    !rm timelapses/us_confirmed_timelapse.mp4\n",
    "    !rm timelapses/us_confirmed_timelapse.gif\n",
    "    \n",
    "    !rm timelapses/us_deaths_timelapse.mp4\n",
    "    !rm timelapses/us_deaths_timelapse.gif\n",
    "    \n",
    "    !ffmpeg -r 15 -i geo/geo_us_cases/%03d.png -c:v libx264 -r 30 -pix_fmt yuv420p timelapses/us_confirmed_timelapse.mp4    \n",
    "    !ffmpeg -i timelapses/us_confirmed_timelapse.mp4 timelapses/us_confirmed_timelapse.gif\n",
    "    \n",
    "    !ffmpeg -r 15 -i geo/geo_us_deaths/%03d.png -c:v libx264 -r 30 -pix_fmt yuv420p timelapses/us_deaths_timelapse.mp4\n",
    "    !ffmpeg -i timelapses/us_deaths_timelapse.mp4 timelapses/us_deaths_timelapse.gif"
   ]
  },
  {
   "cell_type": "code",
   "execution_count": null,
   "metadata": {},
   "outputs": [],
   "source": [
    "update_us_cases_by_counties(1000)"
   ]
  },
  {
   "cell_type": "code",
   "execution_count": null,
   "metadata": {},
   "outputs": [],
   "source": [
    "update_us_deaths_by_counties(100)"
   ]
  },
  {
   "cell_type": "code",
   "execution_count": null,
   "metadata": {},
   "outputs": [],
   "source": [
    "convert_to_png(\"confirmed\", 5) #len(dates)) #10"
   ]
  },
  {
   "cell_type": "code",
   "execution_count": null,
   "metadata": {},
   "outputs": [],
   "source": [
    "convert_to_png(\"deaths\", 5) #len(dates))"
   ]
  },
  {
   "cell_type": "code",
   "execution_count": null,
   "metadata": {},
   "outputs": [
    {
     "name": "stdout",
     "output_type": "stream",
     "text": [
      "rm: timelapses/global_recovered_timelapse.mp4: No such file or directory\n",
      "rm: timelapses/global_recovered_timelapse.gif: No such file or directory\n",
      "ffmpeg version 4.3.1 Copyright (c) 2000-2020 the FFmpeg developers\n",
      "  built with Apple clang version 11.0.3 (clang-1103.0.32.62)\n",
      "  configuration: --prefix=/usr/local/Cellar/ffmpeg/4.3.1_1 --enable-shared --enable-pthreads --enable-version3 --enable-avresample --cc=clang --host-cflags= --host-ldflags= --enable-ffplay --enable-gnutls --enable-gpl --enable-libaom --enable-libbluray --enable-libdav1d --enable-libmp3lame --enable-libopus --enable-librav1e --enable-librubberband --enable-libsnappy --enable-libsrt --enable-libtesseract --enable-libtheora --enable-libvidstab --enable-libvorbis --enable-libvpx --enable-libwebp --enable-libx264 --enable-libx265 --enable-libxml2 --enable-libxvid --enable-lzma --enable-libfontconfig --enable-libfreetype --enable-frei0r --enable-libass --enable-libopencore-amrnb --enable-libopencore-amrwb --enable-libopenjpeg --enable-librtmp --enable-libspeex --enable-libsoxr --enable-videotoolbox --disable-libjack --disable-indev=jack\n",
      "  libavutil      56. 51.100 / 56. 51.100\n",
      "  libavcodec     58. 91.100 / 58. 91.100\n",
      "  libavformat    58. 45.100 / 58. 45.100\n",
      "  libavdevice    58. 10.100 / 58. 10.100\n",
      "  libavfilter     7. 85.100 /  7. 85.100\n",
      "  libavresample   4.  0.  0 /  4.  0.  0\n",
      "  libswscale      5.  7.100 /  5.  7.100\n",
      "  libswresample   3.  7.100 /  3.  7.100\n",
      "  libpostproc    55.  7.100 / 55.  7.100\n",
      "Input #0, image2, from 'geo/geo_confirmed/%03d.png':\n",
      "  Duration: 00:00:04.88, start: 0.000000, bitrate: N/A\n",
      "    Stream #0:0: Video: png, rgba(pc), 2000x1000 [SAR 3937:3937 DAR 2:1], 25 fps, 25 tbr, 25 tbn, 25 tbc\n",
      "Stream mapping:\n",
      "  Stream #0:0 -> #0:0 (png (native) -> h264 (libx264))\n",
      "Press [q] to stop, [?] for help\n",
      "\u001b[1;36m[libx264 @ 0x7fafb080a000] \u001b[0musing SAR=1/1\n",
      "\u001b[1;36m[libx264 @ 0x7fafb080a000] \u001b[0musing cpu capabilities: MMX2 SSE2Fast SSSE3 SSE4.2 AVX FMA3 BMI2 AVX2\n",
      "\u001b[1;36m[libx264 @ 0x7fafb080a000] \u001b[0mprofile High, level 4.0, 4:2:0, 8-bit\n",
      "\u001b[1;36m[libx264 @ 0x7fafb080a000] \u001b[0m264 - core 160 r3011M cde9a93 - H.264/MPEG-4 AVC codec - Copyleft 2003-2020 - http://www.videolan.org/x264.html - options: cabac=1 ref=3 deblock=1:0:0 analyse=0x3:0x113 me=hex subme=7 psy=1 psy_rd=1.00:0.00 mixed_ref=1 me_range=16 chroma_me=1 trellis=1 8x8dct=1 cqm=0 deadzone=21,11 fast_pskip=1 chroma_qp_offset=-2 threads=24 lookahead_threads=4 sliced_threads=0 nr=0 decimate=1 interlaced=0 bluray_compat=0 constrained_intra=0 bframes=3 b_pyramid=2 b_adapt=1 b_bias=0 direct=1 weightb=1 open_gop=0 weightp=2 keyint=250 keyint_min=25 scenecut=40 intra_refresh=0 rc_lookahead=40 rc=crf mbtree=1 crf=23.0 qcomp=0.60 qpmin=0 qpmax=69 qpstep=4 ip_ratio=1.40 aq=1:1.00\n",
      "Output #0, mp4, to 'timelapses/global_confirmed_timelapse.mp4':\n",
      "  Metadata:\n",
      "    encoder         : Lavf58.45.100\n",
      "    Stream #0:0: Video: h264 (libx264) (avc1 / 0x31637661), yuv420p, 2000x1000 [SAR 1:1 DAR 2:1], q=-1--1, 30 fps, 15360 tbn, 30 tbc\n",
      "    Metadata:\n",
      "      encoder         : Lavc58.91.100 libx264\n",
      "    Side data:\n",
      "      cpb: bitrate max/min/avg: 0/0/0 buffer size: 0 vbv_delay: N/A\n",
      "frame=  243 fps=173 q=-1.0 Lsize=     209kB time=00:00:08.00 bitrate= 214.0kbits/s dup=121 drop=0 speed=5.68x    \n",
      "video:205kB audio:0kB subtitle:0kB other streams:0kB global headers:0kB muxing overhead: 1.795254%\n",
      "\u001b[1;36m[libx264 @ 0x7fafb080a000] \u001b[0mframe I:1     Avg QP:14.50  size: 20700\n",
      "\u001b[1;36m[libx264 @ 0x7fafb080a000] \u001b[0mframe P:74    Avg QP:17.24  size:  1692\n",
      "\u001b[1;36m[libx264 @ 0x7fafb080a000] \u001b[0mframe B:168   Avg QP:16.48  size:   379\n",
      "\u001b[1;36m[libx264 @ 0x7fafb080a000] \u001b[0mconsecutive B-frames:  0.4% 22.2%  0.0% 77.4%\n",
      "\u001b[1;36m[libx264 @ 0x7fafb080a000] \u001b[0mmb I  I16..4: 54.2% 39.2%  6.6%\n",
      "\u001b[1;36m[libx264 @ 0x7fafb080a000] \u001b[0mmb P  I16..4:  0.4%  0.4%  0.2%  P16..4:  1.5%  0.3%  0.2%  0.0%  0.0%    skip:97.0%\n",
      "\u001b[1;36m[libx264 @ 0x7fafb080a000] \u001b[0mmb B  I16..4:  0.1%  0.0%  0.0%  B16..8:  1.7%  0.0%  0.0%  direct: 0.2%  skip:98.0%  L0:26.7% L1:73.0% BI: 0.3%\n",
      "\u001b[1;36m[libx264 @ 0x7fafb080a000] \u001b[0m8x8 transform intra:37.2% inter:44.8%\n",
      "\u001b[1;36m[libx264 @ 0x7fafb080a000] \u001b[0mcoded y,uvDC,uvAC intra: 10.6% 9.9% 7.1% inter: 0.2% 0.4% 0.1%\n",
      "\u001b[1;36m[libx264 @ 0x7fafb080a000] \u001b[0mi16 v,h,dc,p: 75% 22%  3%  0%\n",
      "\u001b[1;36m[libx264 @ 0x7fafb080a000] \u001b[0mi8 v,h,dc,ddl,ddr,vr,hd,vl,hu: 48%  8% 42%  0%  0%  0%  1%  0%  1%\n",
      "\u001b[1;36m[libx264 @ 0x7fafb080a000] \u001b[0mi4 v,h,dc,ddl,ddr,vr,hd,vl,hu: 23% 27% 25%  3%  3%  6%  4%  6%  3%\n",
      "\u001b[1;36m[libx264 @ 0x7fafb080a000] \u001b[0mi8c dc,h,v,p: 72% 21%  6%  1%\n",
      "\u001b[1;36m[libx264 @ 0x7fafb080a000] \u001b[0mWeighted P-Frames: Y:0.0% UV:0.0%\n",
      "\u001b[1;36m[libx264 @ 0x7fafb080a000] \u001b[0mref P L0: 69.5% 20.0%  7.7%  2.8%\n",
      "\u001b[1;36m[libx264 @ 0x7fafb080a000] \u001b[0mref B L0: 43.8% 52.0%  4.2%\n",
      "\u001b[1;36m[libx264 @ 0x7fafb080a000] \u001b[0mref B L1: 97.9%  2.1%\n",
      "\u001b[1;36m[libx264 @ 0x7fafb080a000] \u001b[0mkb/s:206.94\n",
      "ffmpeg version 4.3.1 Copyright (c) 2000-2020 the FFmpeg developers\n",
      "  built with Apple clang version 11.0.3 (clang-1103.0.32.62)\n",
      "  configuration: --prefix=/usr/local/Cellar/ffmpeg/4.3.1_1 --enable-shared --enable-pthreads --enable-version3 --enable-avresample --cc=clang --host-cflags= --host-ldflags= --enable-ffplay --enable-gnutls --enable-gpl --enable-libaom --enable-libbluray --enable-libdav1d --enable-libmp3lame --enable-libopus --enable-librav1e --enable-librubberband --enable-libsnappy --enable-libsrt --enable-libtesseract --enable-libtheora --enable-libvidstab --enable-libvorbis --enable-libvpx --enable-libwebp --enable-libx264 --enable-libx265 --enable-libxml2 --enable-libxvid --enable-lzma --enable-libfontconfig --enable-libfreetype --enable-frei0r --enable-libass --enable-libopencore-amrnb --enable-libopencore-amrwb --enable-libopenjpeg --enable-librtmp --enable-libspeex --enable-libsoxr --enable-videotoolbox --disable-libjack --disable-indev=jack\n",
      "  libavutil      56. 51.100 / 56. 51.100\n",
      "  libavcodec     58. 91.100 / 58. 91.100\n",
      "  libavformat    58. 45.100 / 58. 45.100\n",
      "  libavdevice    58. 10.100 / 58. 10.100\n",
      "  libavfilter     7. 85.100 /  7. 85.100\n",
      "  libavresample   4.  0.  0 /  4.  0.  0\n",
      "  libswscale      5.  7.100 /  5.  7.100\n",
      "  libswresample   3.  7.100 /  3.  7.100\n",
      "  libpostproc    55.  7.100 / 55.  7.100\n",
      "Input #0, image2, from 'geo/geo_deaths/%03d.png':\n",
      "  Duration: 00:00:04.88, start: 0.000000, bitrate: N/A\n",
      "    Stream #0:0: Video: png, rgba(pc), 2000x1000 [SAR 3937:3937 DAR 2:1], 25 fps, 25 tbr, 25 tbn, 25 tbc\n",
      "Stream mapping:\n",
      "  Stream #0:0 -> #0:0 (png (native) -> h264 (libx264))\n",
      "Press [q] to stop, [?] for help\n",
      "\u001b[1;36m[libx264 @ 0x7fbef4818600] \u001b[0musing SAR=1/1\n",
      "\u001b[1;36m[libx264 @ 0x7fbef4818600] \u001b[0musing cpu capabilities: MMX2 SSE2Fast SSSE3 SSE4.2 AVX FMA3 BMI2 AVX2\n",
      "\u001b[1;36m[libx264 @ 0x7fbef4818600] \u001b[0mprofile High, level 4.0, 4:2:0, 8-bit\n",
      "\u001b[1;36m[libx264 @ 0x7fbef4818600] \u001b[0m264 - core 160 r3011M cde9a93 - H.264/MPEG-4 AVC codec - Copyleft 2003-2020 - http://www.videolan.org/x264.html - options: cabac=1 ref=3 deblock=1:0:0 analyse=0x3:0x113 me=hex subme=7 psy=1 psy_rd=1.00:0.00 mixed_ref=1 me_range=16 chroma_me=1 trellis=1 8x8dct=1 cqm=0 deadzone=21,11 fast_pskip=1 chroma_qp_offset=-2 threads=24 lookahead_threads=4 sliced_threads=0 nr=0 decimate=1 interlaced=0 bluray_compat=0 constrained_intra=0 bframes=3 b_pyramid=2 b_adapt=1 b_bias=0 direct=1 weightb=1 open_gop=0 weightp=2 keyint=250 keyint_min=25 scenecut=40 intra_refresh=0 rc_lookahead=40 rc=crf mbtree=1 crf=23.0 qcomp=0.60 qpmin=0 qpmax=69 qpstep=4 ip_ratio=1.40 aq=1:1.00\n",
      "Output #0, mp4, to 'timelapses/global_deaths_timelapse.mp4':\n",
      "  Metadata:\n",
      "    encoder         : Lavf58.45.100\n",
      "    Stream #0:0: Video: h264 (libx264) (avc1 / 0x31637661), yuv420p, 2000x1000 [SAR 1:1 DAR 2:1], q=-1--1, 30 fps, 15360 tbn, 30 tbc\n",
      "    Metadata:\n",
      "      encoder         : Lavc58.91.100 libx264\n",
      "    Side data:\n",
      "      cpb: bitrate max/min/avg: 0/0/0 buffer size: 0 vbv_delay: N/A\n",
      "frame=  243 fps=180 q=-1.0 Lsize=     175kB time=00:00:08.00 bitrate= 179.1kbits/s dup=121 drop=0 speed=5.94x    \n",
      "video:171kB audio:0kB subtitle:0kB other streams:0kB global headers:0kB muxing overhead: 2.143778%\n",
      "\u001b[1;36m[libx264 @ 0x7fbef4818600] \u001b[0mframe I:1     Avg QP:14.42  size:  7804\n",
      "\u001b[1;36m[libx264 @ 0x7fbef4818600] \u001b[0mframe P:71    Avg QP:17.01  size:  1434\n",
      "\u001b[1;36m[libx264 @ 0x7fbef4818600] \u001b[0mframe B:171   Avg QP:16.73  size:   380\n",
      "\u001b[1;36m[libx264 @ 0x7fbef4818600] \u001b[0mconsecutive B-frames:  0.4% 16.5%  2.5% 80.7%\n",
      "\u001b[1;36m[libx264 @ 0x7fbef4818600] \u001b[0mmb I  I16..4: 60.7% 37.2%  2.0%\n",
      "\u001b[1;36m[libx264 @ 0x7fbef4818600] \u001b[0mmb P  I16..4:  0.1%  0.5%  0.3%  P16..4:  1.0%  0.1%  0.1%  0.0%  0.0%    skip:97.9%\n",
      "\u001b[1;36m[libx264 @ 0x7fbef4818600] \u001b[0mmb B  I16..4:  0.1%  0.0%  0.0%  B16..8:  1.5%  0.0%  0.0%  direct: 0.0%  skip:98.4%  L0:42.6% L1:56.8% BI: 0.5%\n",
      "\u001b[1;36m[libx264 @ 0x7fbef4818600] \u001b[0m8x8 transform intra:43.1% inter:42.7%\n",
      "\u001b[1;36m[libx264 @ 0x7fbef4818600] \u001b[0mcoded y,uvDC,uvAC intra: 10.7% 0.0% 0.0% inter: 0.1% 0.0% 0.0%\n",
      "\u001b[1;36m[libx264 @ 0x7fbef4818600] \u001b[0mi16 v,h,dc,p: 76% 20%  4%  1%\n",
      "\u001b[1;36m[libx264 @ 0x7fbef4818600] \u001b[0mi8 v,h,dc,ddl,ddr,vr,hd,vl,hu: 47% 17% 34%  0%  0%  0%  0%  0%  0%\n",
      "\u001b[1;36m[libx264 @ 0x7fbef4818600] \u001b[0mi4 v,h,dc,ddl,ddr,vr,hd,vl,hu: 21% 27% 26%  3%  3%  6%  4%  6%  3%\n",
      "\u001b[1;36m[libx264 @ 0x7fbef4818600] \u001b[0mi8c dc,h,v,p: 100%  0%  0%  0%\n",
      "\u001b[1;36m[libx264 @ 0x7fbef4818600] \u001b[0mWeighted P-Frames: Y:0.0% UV:0.0%\n",
      "\u001b[1;36m[libx264 @ 0x7fbef4818600] \u001b[0mref P L0: 68.3% 17.1% 11.4%  3.2%\n",
      "\u001b[1;36m[libx264 @ 0x7fbef4818600] \u001b[0mref B L0: 48.9% 45.6%  5.5%\n",
      "\u001b[1;36m[libx264 @ 0x7fbef4818600] \u001b[0mref B L1: 97.2%  2.8%\n",
      "\u001b[1;36m[libx264 @ 0x7fbef4818600] \u001b[0mkb/s:172.45\n"
     ]
    },
    {
     "name": "stdout",
     "output_type": "stream",
     "text": [
      "zsh:1: command not found: 4\n",
      "ffmpeg version 4.3.1 Copyright (c) 2000-2020 the FFmpeg developers\n",
      "  built with Apple clang version 11.0.3 (clang-1103.0.32.62)\n",
      "  configuration: --prefix=/usr/local/Cellar/ffmpeg/4.3.1_1 --enable-shared --enable-pthreads --enable-version3 --enable-avresample --cc=clang --host-cflags= --host-ldflags= --enable-ffplay --enable-gnutls --enable-gpl --enable-libaom --enable-libbluray --enable-libdav1d --enable-libmp3lame --enable-libopus --enable-librav1e --enable-librubberband --enable-libsnappy --enable-libsrt --enable-libtesseract --enable-libtheora --enable-libvidstab --enable-libvorbis --enable-libvpx --enable-libwebp --enable-libx264 --enable-libx265 --enable-libxml2 --enable-libxvid --enable-lzma --enable-libfontconfig --enable-libfreetype --enable-frei0r --enable-libass --enable-libopencore-amrnb --enable-libopencore-amrwb --enable-libopenjpeg --enable-librtmp --enable-libspeex --enable-libsoxr --enable-videotoolbox --disable-libjack --disable-indev=jack\n",
      "  libavutil      56. 51.100 / 56. 51.100\n",
      "  libavcodec     58. 91.100 / 58. 91.100\n",
      "  libavformat    58. 45.100 / 58. 45.100\n",
      "  libavdevice    58. 10.100 / 58. 10.100\n",
      "  libavfilter     7. 85.100 /  7. 85.100\n",
      "  libavresample   4.  0.  0 /  4.  0.  0\n",
      "  libswscale      5.  7.100 /  5.  7.100\n",
      "  libswresample   3.  7.100 /  3.  7.100\n",
      "  libpostproc    55.  7.100 / 55.  7.100\n",
      "\u001b[0;33mTrailing option(s) found in the command: may be ignored.\n",
      "\u001b[0mInput #0, image2, from 'geo/geo_recovered/%03d.png':\n",
      "  Duration: 00:00:04.88, start: 0.000000, bitrate: N/A\n",
      "    Stream #0:0: Video: png, rgba(pc), 2000x1000 [SAR 3937:3937 DAR 2:1], 25 fps, 25 tbr, 25 tbn, 25 tbc\n",
      "\u001b[4;31mAt least one output file must be specified\n",
      "\u001b[0mffmpeg version 4.3.1 Copyright (c) 2000-2020 the FFmpeg developers\n",
      "  built with Apple clang version 11.0.3 (clang-1103.0.32.62)\n",
      "  configuration: --prefix=/usr/local/Cellar/ffmpeg/4.3.1_1 --enable-shared --enable-pthreads --enable-version3 --enable-avresample --cc=clang --host-cflags= --host-ldflags= --enable-ffplay --enable-gnutls --enable-gpl --enable-libaom --enable-libbluray --enable-libdav1d --enable-libmp3lame --enable-libopus --enable-librav1e --enable-librubberband --enable-libsnappy --enable-libsrt --enable-libtesseract --enable-libtheora --enable-libvidstab --enable-libvorbis --enable-libvpx --enable-libwebp --enable-libx264 --enable-libx265 --enable-libxml2 --enable-libxvid --enable-lzma --enable-libfontconfig --enable-libfreetype --enable-frei0r --enable-libass --enable-libopencore-amrnb --enable-libopencore-amrwb --enable-libopenjpeg --enable-librtmp --enable-libspeex --enable-libsoxr --enable-videotoolbox --disable-libjack --disable-indev=jack\n",
      "  libavutil      56. 51.100 / 56. 51.100\n",
      "  libavcodec     58. 91.100 / 58. 91.100\n",
      "  libavformat    58. 45.100 / 58. 45.100\n",
      "  libavdevice    58. 10.100 / 58. 10.100\n",
      "  libavfilter     7. 85.100 /  7. 85.100\n",
      "  libavresample   4.  0.  0 /  4.  0.  0\n",
      "  libswscale      5.  7.100 /  5.  7.100\n",
      "  libswresample   3.  7.100 /  3.  7.100\n",
      "  libpostproc    55.  7.100 / 55.  7.100\n",
      "Input #0, mov,mp4,m4a,3gp,3g2,mj2, from 'timelapses/global_confirmed_timelapse.mp4':\n",
      "  Metadata:\n",
      "    major_brand     : isom\n",
      "    minor_version   : 512\n",
      "    compatible_brands: isomiso2avc1mp41\n",
      "    encoder         : Lavf58.45.100\n",
      "  Duration: 00:00:08.10, start: 0.000000, bitrate: 211 kb/s\n",
      "    Stream #0:0(und): Video: h264 (High) (avc1 / 0x31637661), yuv420p, 2000x1000 [SAR 1:1 DAR 2:1], 207 kb/s, 30 fps, 30 tbr, 15360 tbn, 60 tbc (default)\n",
      "    Metadata:\n",
      "      handler_name    : VideoHandler\n",
      "Stream mapping:\n",
      "  Stream #0:0 -> #0:0 (h264 (native) -> gif (native))\n",
      "Press [q] to stop, [?] for help\n",
      "\u001b[1;34m[swscaler @ 0x7f8880348000] \u001b[0m\u001b[0;33mNo accelerated colorspace conversion found from yuv420p to bgr8.\n",
      "\u001b[0mOutput #0, gif, to 'timelapses/global_confirmed_timelapse.gif':\n",
      "  Metadata:\n",
      "    major_brand     : isom\n",
      "    minor_version   : 512\n",
      "    compatible_brands: isomiso2avc1mp41\n",
      "    encoder         : Lavf58.45.100\n",
      "    Stream #0:0(und): Video: gif, bgr8, 2000x1000 [SAR 1:1 DAR 2:1], q=2-31, 200 kb/s, 30 fps, 100 tbn, 30 tbc (default)\n",
      "    Metadata:\n",
      "      handler_name    : VideoHandler\n",
      "      encoder         : Lavc58.91.100 gif\n",
      "frame=  243 fps= 95 q=-0.0 Lsize=    1158kB time=00:00:08.08 bitrate=1174.0kbits/s speed=3.14x    \n",
      "video:1158kB audio:0kB subtitle:0kB other streams:0kB global headers:0kB muxing overhead: 0.001687%\n",
      "ffmpeg version 4.3.1 Copyright (c) 2000-2020 the FFmpeg developers\n",
      "  built with Apple clang version 11.0.3 (clang-1103.0.32.62)\n",
      "  configuration: --prefix=/usr/local/Cellar/ffmpeg/4.3.1_1 --enable-shared --enable-pthreads --enable-version3 --enable-avresample --cc=clang --host-cflags= --host-ldflags= --enable-ffplay --enable-gnutls --enable-gpl --enable-libaom --enable-libbluray --enable-libdav1d --enable-libmp3lame --enable-libopus --enable-librav1e --enable-librubberband --enable-libsnappy --enable-libsrt --enable-libtesseract --enable-libtheora --enable-libvidstab --enable-libvorbis --enable-libvpx --enable-libwebp --enable-libx264 --enable-libx265 --enable-libxml2 --enable-libxvid --enable-lzma --enable-libfontconfig --enable-libfreetype --enable-frei0r --enable-libass --enable-libopencore-amrnb --enable-libopencore-amrwb --enable-libopenjpeg --enable-librtmp --enable-libspeex --enable-libsoxr --enable-videotoolbox --disable-libjack --disable-indev=jack\n",
      "  libavutil      56. 51.100 / 56. 51.100\n",
      "  libavcodec     58. 91.100 / 58. 91.100\n",
      "  libavformat    58. 45.100 / 58. 45.100\n",
      "  libavdevice    58. 10.100 / 58. 10.100\n",
      "  libavfilter     7. 85.100 /  7. 85.100\n",
      "  libavresample   4.  0.  0 /  4.  0.  0\n",
      "  libswscale      5.  7.100 /  5.  7.100\n",
      "  libswresample   3.  7.100 /  3.  7.100\n",
      "  libpostproc    55.  7.100 / 55.  7.100\n",
      "Input #0, mov,mp4,m4a,3gp,3g2,mj2, from 'timelapses/global_deaths_timelapse.mp4':\n",
      "  Metadata:\n",
      "    major_brand     : isom\n",
      "    minor_version   : 512\n",
      "    compatible_brands: isomiso2avc1mp41\n",
      "    encoder         : Lavf58.45.100\n",
      "  Duration: 00:00:08.10, start: 0.000000, bitrate: 176 kb/s\n",
      "    Stream #0:0(und): Video: h264 (High) (avc1 / 0x31637661), yuv420p, 2000x1000 [SAR 1:1 DAR 2:1], 173 kb/s, 30 fps, 30 tbr, 15360 tbn, 60 tbc (default)\n",
      "    Metadata:\n",
      "      handler_name    : VideoHandler\n",
      "Stream mapping:\n",
      "  Stream #0:0 -> #0:0 (h264 (native) -> gif (native))\n",
      "Press [q] to stop, [?] for help\n",
      "\u001b[1;34m[swscaler @ 0x7fa410970000] \u001b[0m\u001b[0;33mNo accelerated colorspace conversion found from yuv420p to bgr8.\n",
      "\u001b[0mOutput #0, gif, to 'timelapses/global_deaths_timelapse.gif':\n",
      "  Metadata:\n",
      "    major_brand     : isom\n",
      "    minor_version   : 512\n",
      "    compatible_brands: isomiso2avc1mp41\n",
      "    encoder         : Lavf58.45.100\n",
      "    Stream #0:0(und): Video: gif, bgr8, 2000x1000 [SAR 1:1 DAR 2:1], q=2-31, 200 kb/s, 30 fps, 100 tbn, 30 tbc (default)\n",
      "    Metadata:\n",
      "      handler_name    : VideoHandler\n",
      "      encoder         : Lavc58.91.100 gif\n",
      "frame=  243 fps=125 q=-0.0 Lsize=     807kB time=00:00:08.08 bitrate= 818.3kbits/s speed=4.17x    \n",
      "video:807kB audio:0kB subtitle:0kB other streams:0kB global headers:0kB muxing overhead: 0.002420%\n",
      "ffmpeg version 4.3.1 Copyright (c) 2000-2020 the FFmpeg developers\n",
      "  built with Apple clang version 11.0.3 (clang-1103.0.32.62)\n",
      "  configuration: --prefix=/usr/local/Cellar/ffmpeg/4.3.1_1 --enable-shared --enable-pthreads --enable-version3 --enable-avresample --cc=clang --host-cflags= --host-ldflags= --enable-ffplay --enable-gnutls --enable-gpl --enable-libaom --enable-libbluray --enable-libdav1d --enable-libmp3lame --enable-libopus --enable-librav1e --enable-librubberband --enable-libsnappy --enable-libsrt --enable-libtesseract --enable-libtheora --enable-libvidstab --enable-libvorbis --enable-libvpx --enable-libwebp --enable-libx264 --enable-libx265 --enable-libxml2 --enable-libxvid --enable-lzma --enable-libfontconfig --enable-libfreetype --enable-frei0r --enable-libass --enable-libopencore-amrnb --enable-libopencore-amrwb --enable-libopenjpeg --enable-librtmp --enable-libspeex --enable-libsoxr --enable-videotoolbox --disable-libjack --disable-indev=jack\n",
      "  libavutil      56. 51.100 / 56. 51.100\n",
      "  libavcodec     58. 91.100 / 58. 91.100\n",
      "  libavformat    58. 45.100 / 58. 45.100\n",
      "  libavdevice    58. 10.100 / 58. 10.100\n",
      "  libavfilter     7. 85.100 /  7. 85.100\n",
      "  libavresample   4.  0.  0 /  4.  0.  0\n",
      "  libswscale      5.  7.100 /  5.  7.100\n",
      "  libswresample   3.  7.100 /  3.  7.100\n",
      "  libpostproc    55.  7.100 / 55.  7.100\n",
      "\u001b[1;31mtimelapses/global_recovered_timelapse.mp4: No such file or directory\n"
     ]
    },
    {
     "name": "stdout",
     "output_type": "stream",
     "text": [
      "\u001b[0mffmpeg version 4.3.1 Copyright (c) 2000-2020 the FFmpeg developers\n",
      "  built with Apple clang version 11.0.3 (clang-1103.0.32.62)\n",
      "  configuration: --prefix=/usr/local/Cellar/ffmpeg/4.3.1_1 --enable-shared --enable-pthreads --enable-version3 --enable-avresample --cc=clang --host-cflags= --host-ldflags= --enable-ffplay --enable-gnutls --enable-gpl --enable-libaom --enable-libbluray --enable-libdav1d --enable-libmp3lame --enable-libopus --enable-librav1e --enable-librubberband --enable-libsnappy --enable-libsrt --enable-libtesseract --enable-libtheora --enable-libvidstab --enable-libvorbis --enable-libvpx --enable-libwebp --enable-libx264 --enable-libx265 --enable-libxml2 --enable-libxvid --enable-lzma --enable-libfontconfig --enable-libfreetype --enable-frei0r --enable-libass --enable-libopencore-amrnb --enable-libopencore-amrwb --enable-libopenjpeg --enable-librtmp --enable-libspeex --enable-libsoxr --enable-videotoolbox --disable-libjack --disable-indev=jack\n",
      "  libavutil      56. 51.100 / 56. 51.100\n",
      "  libavcodec     58. 91.100 / 58. 91.100\n",
      "  libavformat    58. 45.100 / 58. 45.100\n",
      "  libavdevice    58. 10.100 / 58. 10.100\n",
      "  libavfilter     7. 85.100 /  7. 85.100\n",
      "  libavresample   4.  0.  0 /  4.  0.  0\n",
      "  libswscale      5.  7.100 /  5.  7.100\n",
      "  libswresample   3.  7.100 /  3.  7.100\n",
      "  libpostproc    55.  7.100 / 55.  7.100\n",
      "Input #0, image2, from 'geo/geo_confirmed_normalized/%03d.png':\n",
      "  Duration: 00:00:10.24, start: 0.000000, bitrate: N/A\n",
      "    Stream #0:0: Video: png, rgba(pc), 2000x1000 [SAR 3937:3937 DAR 2:1], 25 fps, 25 tbr, 25 tbn, 25 tbc\n",
      "Stream mapping:\n",
      "  Stream #0:0 -> #0:0 (png (native) -> h264 (libx264))\n",
      "Press [q] to stop, [?] for help\n",
      "\u001b[1;36m[libx264 @ 0x7fec8000a000] \u001b[0musing SAR=1/1\n",
      "\u001b[1;36m[libx264 @ 0x7fec8000a000] \u001b[0musing cpu capabilities: MMX2 SSE2Fast SSSE3 SSE4.2 AVX FMA3 BMI2 AVX2\n",
      "\u001b[1;36m[libx264 @ 0x7fec8000a000] \u001b[0mprofile High, level 4.0, 4:2:0, 8-bit\n",
      "\u001b[1;36m[libx264 @ 0x7fec8000a000] \u001b[0m264 - core 160 r3011M cde9a93 - H.264/MPEG-4 AVC codec - Copyleft 2003-2020 - http://www.videolan.org/x264.html - options: cabac=1 ref=3 deblock=1:0:0 analyse=0x3:0x113 me=hex subme=7 psy=1 psy_rd=1.00:0.00 mixed_ref=1 me_range=16 chroma_me=1 trellis=1 8x8dct=1 cqm=0 deadzone=21,11 fast_pskip=1 chroma_qp_offset=-2 threads=24 lookahead_threads=4 sliced_threads=0 nr=0 decimate=1 interlaced=0 bluray_compat=0 constrained_intra=0 bframes=3 b_pyramid=2 b_adapt=1 b_bias=0 direct=1 weightb=1 open_gop=0 weightp=2 keyint=250 keyint_min=25 scenecut=40 intra_refresh=0 rc_lookahead=40 rc=crf mbtree=1 crf=23.0 qcomp=0.60 qpmin=0 qpmax=69 qpstep=4 ip_ratio=1.40 aq=1:1.00\n",
      "Output #0, mp4, to 'timelapses/global_confirmed_normalized_timelapse.mp4':\n",
      "  Metadata:\n",
      "    encoder         : Lavf58.45.100\n",
      "    Stream #0:0: Video: h264 (libx264) (avc1 / 0x31637661), yuv420p, 2000x1000 [SAR 1:1 DAR 2:1], q=-1--1, 30 fps, 15360 tbn, 30 tbc\n",
      "    Metadata:\n",
      "      encoder         : Lavc58.91.100 libx264\n",
      "    Side data:\n",
      "      cpb: bitrate max/min/avg: 0/0/0 buffer size: 0 vbv_delay: N/A\n",
      "frame=  511 fps=180 q=-1.0 Lsize=     411kB time=00:00:16.93 bitrate= 198.6kbits/s dup=255 drop=0 speed=5.96x    \n",
      "video:404kB audio:0kB subtitle:0kB other streams:0kB global headers:0kB muxing overhead: 1.685043%\n",
      "\u001b[1;36m[libx264 @ 0x7fec8000a000] \u001b[0mframe I:3     Avg QP:15.03  size: 27737\n",
      "\u001b[1;36m[libx264 @ 0x7fec8000a000] \u001b[0mframe P:189   Avg QP:18.64  size:  1231\n",
      "\u001b[1;36m[libx264 @ 0x7fec8000a000] \u001b[0mframe B:319   Avg QP:15.82  size:   304\n",
      "\u001b[1;36m[libx264 @ 0x7fec8000a000] \u001b[0mconsecutive B-frames:  1.0% 47.0%  1.2% 50.9%\n",
      "\u001b[1;36m[libx264 @ 0x7fec8000a000] \u001b[0mmb I  I16..4: 32.6% 59.5%  7.9%\n",
      "\u001b[1;36m[libx264 @ 0x7fec8000a000] \u001b[0mmb P  I16..4:  0.4%  0.3%  0.1%  P16..4:  1.6%  0.2%  0.2%  0.0%  0.0%    skip:97.3%\n",
      "\u001b[1;36m[libx264 @ 0x7fec8000a000] \u001b[0mmb B  I16..4:  0.1%  0.0%  0.0%  B16..8:  1.5%  0.0%  0.0%  direct: 0.1%  skip:98.2%  L0:31.2% L1:68.6% BI: 0.3%\n",
      "\u001b[1;36m[libx264 @ 0x7fec8000a000] \u001b[0m8x8 transform intra:50.5% inter:51.1%\n",
      "\u001b[1;36m[libx264 @ 0x7fec8000a000] \u001b[0mcoded y,uvDC,uvAC intra: 8.3% 10.4% 7.6% inter: 0.2% 0.4% 0.1%\n",
      "\u001b[1;36m[libx264 @ 0x7fec8000a000] \u001b[0mi16 v,h,dc,p: 73% 23%  4%  0%\n",
      "\u001b[1;36m[libx264 @ 0x7fec8000a000] \u001b[0mi8 v,h,dc,ddl,ddr,vr,hd,vl,hu: 51%  9% 38%  0%  0%  0%  0%  0%  0%\n",
      "\u001b[1;36m[libx264 @ 0x7fec8000a000] \u001b[0mi4 v,h,dc,ddl,ddr,vr,hd,vl,hu: 30% 28% 22%  4%  3%  3%  4%  3%  3%\n",
      "\u001b[1;36m[libx264 @ 0x7fec8000a000] \u001b[0mi8c dc,h,v,p: 77% 16%  6%  1%\n",
      "\u001b[1;36m[libx264 @ 0x7fec8000a000] \u001b[0mWeighted P-Frames: Y:0.0% UV:0.0%\n",
      "\u001b[1;36m[libx264 @ 0x7fec8000a000] \u001b[0mref P L0: 73.2% 18.2%  6.1%  2.5%\n",
      "\u001b[1;36m[libx264 @ 0x7fec8000a000] \u001b[0mref B L0: 46.7% 47.6%  5.7%\n",
      "\u001b[1;36m[libx264 @ 0x7fec8000a000] \u001b[0mref B L1: 98.7%  1.3%\n",
      "\u001b[1;36m[libx264 @ 0x7fec8000a000] \u001b[0mkb/s:193.84\n",
      "ffmpeg version 4.3.1 Copyright (c) 2000-2020 the FFmpeg developers\n",
      "  built with Apple clang version 11.0.3 (clang-1103.0.32.62)\n",
      "  configuration: --prefix=/usr/local/Cellar/ffmpeg/4.3.1_1 --enable-shared --enable-pthreads --enable-version3 --enable-avresample --cc=clang --host-cflags= --host-ldflags= --enable-ffplay --enable-gnutls --enable-gpl --enable-libaom --enable-libbluray --enable-libdav1d --enable-libmp3lame --enable-libopus --enable-librav1e --enable-librubberband --enable-libsnappy --enable-libsrt --enable-libtesseract --enable-libtheora --enable-libvidstab --enable-libvorbis --enable-libvpx --enable-libwebp --enable-libx264 --enable-libx265 --enable-libxml2 --enable-libxvid --enable-lzma --enable-libfontconfig --enable-libfreetype --enable-frei0r --enable-libass --enable-libopencore-amrnb --enable-libopencore-amrwb --enable-libopenjpeg --enable-librtmp --enable-libspeex --enable-libsoxr --enable-videotoolbox --disable-libjack --disable-indev=jack\n",
      "  libavutil      56. 51.100 / 56. 51.100\n",
      "  libavcodec     58. 91.100 / 58. 91.100\n",
      "  libavformat    58. 45.100 / 58. 45.100\n",
      "  libavdevice    58. 10.100 / 58. 10.100\n",
      "  libavfilter     7. 85.100 /  7. 85.100\n",
      "  libavresample   4.  0.  0 /  4.  0.  0\n",
      "  libswscale      5.  7.100 /  5.  7.100\n",
      "  libswresample   3.  7.100 /  3.  7.100\n",
      "  libpostproc    55.  7.100 / 55.  7.100\n",
      "Input #0, image2, from 'geo/geo_deaths_normalized/%03d.png':\n",
      "  Duration: 00:00:10.24, start: 0.000000, bitrate: N/A\n",
      "    Stream #0:0: Video: png, rgba(pc), 2000x1000 [SAR 3937:3937 DAR 2:1], 25 fps, 25 tbr, 25 tbn, 25 tbc\n",
      "Stream mapping:\n",
      "  Stream #0:0 -> #0:0 (png (native) -> h264 (libx264))\n",
      "Press [q] to stop, [?] for help\n",
      "\u001b[1;36m[libx264 @ 0x7fb184817600] \u001b[0musing SAR=1/1\n",
      "\u001b[1;36m[libx264 @ 0x7fb184817600] \u001b[0musing cpu capabilities: MMX2 SSE2Fast SSSE3 SSE4.2 AVX FMA3 BMI2 AVX2\n",
      "\u001b[1;36m[libx264 @ 0x7fb184817600] \u001b[0mprofile High, level 4.0, 4:2:0, 8-bit\n",
      "\u001b[1;36m[libx264 @ 0x7fb184817600] \u001b[0m264 - core 160 r3011M cde9a93 - H.264/MPEG-4 AVC codec - Copyleft 2003-2020 - http://www.videolan.org/x264.html - options: cabac=1 ref=3 deblock=1:0:0 analyse=0x3:0x113 me=hex subme=7 psy=1 psy_rd=1.00:0.00 mixed_ref=1 me_range=16 chroma_me=1 trellis=1 8x8dct=1 cqm=0 deadzone=21,11 fast_pskip=1 chroma_qp_offset=-2 threads=24 lookahead_threads=4 sliced_threads=0 nr=0 decimate=1 interlaced=0 bluray_compat=0 constrained_intra=0 bframes=3 b_pyramid=2 b_adapt=1 b_bias=0 direct=1 weightb=1 open_gop=0 weightp=2 keyint=250 keyint_min=25 scenecut=40 intra_refresh=0 rc_lookahead=40 rc=crf mbtree=1 crf=23.0 qcomp=0.60 qpmin=0 qpmax=69 qpstep=4 ip_ratio=1.40 aq=1:1.00\n",
      "Output #0, mp4, to 'timelapses/global_deaths_normalized_timelapse.mp4':\n",
      "  Metadata:\n",
      "    encoder         : Lavf58.45.100\n",
      "    Stream #0:0: Video: h264 (libx264) (avc1 / 0x31637661), yuv420p, 2000x1000 [SAR 1:1 DAR 2:1], q=-1--1, 30 fps, 15360 tbn, 30 tbc\n",
      "    Metadata:\n",
      "      encoder         : Lavc58.91.100 libx264\n",
      "    Side data:\n",
      "      cpb: bitrate max/min/avg: 0/0/0 buffer size: 0 vbv_delay: N/A\n",
      "frame=  511 fps=188 q=-1.0 Lsize=     301kB time=00:00:16.93 bitrate= 145.7kbits/s dup=255 drop=0 speed=6.22x    \n",
      "video:294kB audio:0kB subtitle:0kB other streams:0kB global headers:0kB muxing overhead: 2.311690%\n",
      "\u001b[1;36m[libx264 @ 0x7fb184817600] \u001b[0mframe I:3     Avg QP:16.56  size: 13695\n",
      "\u001b[1;36m[libx264 @ 0x7fb184817600] \u001b[0mframe P:180   Avg QP:17.24  size:   983\n",
      "\u001b[1;36m[libx264 @ 0x7fb184817600] \u001b[0mframe B:328   Avg QP:14.95  size:   252\n",
      "\u001b[1;36m[libx264 @ 0x7fb184817600] \u001b[0mconsecutive B-frames:  0.8% 40.3%  1.8% 57.1%\n",
      "\u001b[1;36m[libx264 @ 0x7fb184817600] \u001b[0mmb I  I16..4: 30.3% 65.0%  4.7%\n",
      "\u001b[1;36m[libx264 @ 0x7fb184817600] \u001b[0mmb P  I16..4:  0.1%  0.3%  0.1%  P16..4:  1.3%  0.2%  0.1%  0.0%  0.0%    skip:97.9%\n",
      "\u001b[1;36m[libx264 @ 0x7fb184817600] \u001b[0mmb B  I16..4:  0.1%  0.0%  0.0%  B16..8:  1.4%  0.0%  0.0%  direct: 0.0%  skip:98.5%  L0:31.4% L1:68.4% BI: 0.2%\n",
      "\u001b[1;36m[libx264 @ 0x7fb184817600] \u001b[0m8x8 transform intra:61.2% inter:45.4%\n",
      "\u001b[1;36m[libx264 @ 0x7fb184817600] \u001b[0mcoded y,uvDC,uvAC intra: 7.5% 0.0% 0.0% inter: 0.1% 0.0% 0.0%\n",
      "\u001b[1;36m[libx264 @ 0x7fb184817600] \u001b[0mi16 v,h,dc,p: 67% 27%  6%  1%\n",
      "\u001b[1;36m[libx264 @ 0x7fb184817600] \u001b[0mi8 v,h,dc,ddl,ddr,vr,hd,vl,hu: 60%  8% 31%  0%  0%  0%  0%  0%  0%\n",
      "\u001b[1;36m[libx264 @ 0x7fb184817600] \u001b[0mi4 v,h,dc,ddl,ddr,vr,hd,vl,hu: 27% 29% 25%  3%  3%  3%  4%  3%  3%\n",
      "\u001b[1;36m[libx264 @ 0x7fb184817600] \u001b[0mi8c dc,h,v,p: 100%  0%  0%  0%\n",
      "\u001b[1;36m[libx264 @ 0x7fb184817600] \u001b[0mWeighted P-Frames: Y:0.0% UV:0.0%\n",
      "\u001b[1;36m[libx264 @ 0x7fb184817600] \u001b[0mref P L0: 75.4% 17.8%  5.3%  1.5%\n",
      "\u001b[1;36m[libx264 @ 0x7fb184817600] \u001b[0mref B L0: 42.0% 47.3% 10.7%\n",
      "\u001b[1;36m[libx264 @ 0x7fb184817600] \u001b[0mref B L1: 99.1%  0.9%\n",
      "\u001b[1;36m[libx264 @ 0x7fb184817600] \u001b[0mkb/s:141.20\n"
     ]
    },
    {
     "name": "stdout",
     "output_type": "stream",
     "text": [
      "ffmpeg version 4.3.1 Copyright (c) 2000-2020 the FFmpeg developers\n",
      "  built with Apple clang version 11.0.3 (clang-1103.0.32.62)\n",
      "  configuration: --prefix=/usr/local/Cellar/ffmpeg/4.3.1_1 --enable-shared --enable-pthreads --enable-version3 --enable-avresample --cc=clang --host-cflags= --host-ldflags= --enable-ffplay --enable-gnutls --enable-gpl --enable-libaom --enable-libbluray --enable-libdav1d --enable-libmp3lame --enable-libopus --enable-librav1e --enable-librubberband --enable-libsnappy --enable-libsrt --enable-libtesseract --enable-libtheora --enable-libvidstab --enable-libvorbis --enable-libvpx --enable-libwebp --enable-libx264 --enable-libx265 --enable-libxml2 --enable-libxvid --enable-lzma --enable-libfontconfig --enable-libfreetype --enable-frei0r --enable-libass --enable-libopencore-amrnb --enable-libopencore-amrwb --enable-libopenjpeg --enable-librtmp --enable-libspeex --enable-libsoxr --enable-videotoolbox --disable-libjack --disable-indev=jack\n",
      "  libavutil      56. 51.100 / 56. 51.100\n",
      "  libavcodec     58. 91.100 / 58. 91.100\n",
      "  libavformat    58. 45.100 / 58. 45.100\n",
      "  libavdevice    58. 10.100 / 58. 10.100\n",
      "  libavfilter     7. 85.100 /  7. 85.100\n",
      "  libavresample   4.  0.  0 /  4.  0.  0\n",
      "  libswscale      5.  7.100 /  5.  7.100\n",
      "  libswresample   3.  7.100 /  3.  7.100\n",
      "  libpostproc    55.  7.100 / 55.  7.100\n",
      "Input #0, image2, from 'geo/geo_recovered_normalized/%03d.png':\n",
      "  Duration: 00:00:10.24, start: 0.000000, bitrate: N/A\n",
      "    Stream #0:0: Video: png, rgba(pc), 2000x1000 [SAR 3937:3937 DAR 2:1], 25 fps, 25 tbr, 25 tbn, 25 tbc\n",
      "Stream mapping:\n",
      "  Stream #0:0 -> #0:0 (png (native) -> h264 (libx264))\n",
      "Press [q] to stop, [?] for help\n",
      "\u001b[1;36m[libx264 @ 0x7f88ae00a000] \u001b[0musing SAR=1/1\n",
      "\u001b[1;36m[libx264 @ 0x7f88ae00a000] \u001b[0musing cpu capabilities: MMX2 SSE2Fast SSSE3 SSE4.2 AVX FMA3 BMI2 AVX2\n",
      "\u001b[1;36m[libx264 @ 0x7f88ae00a000] \u001b[0mprofile High, level 4.0, 4:2:0, 8-bit\n",
      "\u001b[1;36m[libx264 @ 0x7f88ae00a000] \u001b[0m264 - core 160 r3011M cde9a93 - H.264/MPEG-4 AVC codec - Copyleft 2003-2020 - http://www.videolan.org/x264.html - options: cabac=1 ref=3 deblock=1:0:0 analyse=0x3:0x113 me=hex subme=7 psy=1 psy_rd=1.00:0.00 mixed_ref=1 me_range=16 chroma_me=1 trellis=1 8x8dct=1 cqm=0 deadzone=21,11 fast_pskip=1 chroma_qp_offset=-2 threads=24 lookahead_threads=4 sliced_threads=0 nr=0 decimate=1 interlaced=0 bluray_compat=0 constrained_intra=0 bframes=3 b_pyramid=2 b_adapt=1 b_bias=0 direct=1 weightb=1 open_gop=0 weightp=2 keyint=250 keyint_min=25 scenecut=40 intra_refresh=0 rc_lookahead=40 rc=crf mbtree=1 crf=23.0 qcomp=0.60 qpmin=0 qpmax=69 qpstep=4 ip_ratio=1.40 aq=1:1.00\n",
      "Output #0, mp4, to 'timelapses/global_recovered_normalized_timelapse.mp4':\n",
      "  Metadata:\n",
      "    encoder         : Lavf58.45.100\n",
      "    Stream #0:0: Video: h264 (libx264) (avc1 / 0x31637661), yuv420p, 2000x1000 [SAR 1:1 DAR 2:1], q=-1--1, 30 fps, 15360 tbn, 30 tbc\n",
      "    Metadata:\n",
      "      encoder         : Lavc58.91.100 libx264\n",
      "    Side data:\n",
      "      cpb: bitrate max/min/avg: 0/0/0 buffer size: 0 vbv_delay: N/A\n",
      "frame=  511 fps=187 q=-1.0 Lsize=     512kB time=00:00:16.93 bitrate= 247.6kbits/s dup=255 drop=0 speed= 6.2x    \n",
      "video:505kB audio:0kB subtitle:0kB other streams:0kB global headers:0kB muxing overhead: 1.350426%\n",
      "\u001b[1;36m[libx264 @ 0x7f88ae00a000] \u001b[0mframe I:3     Avg QP:15.18  size: 24121\n",
      "\u001b[1;36m[libx264 @ 0x7f88ae00a000] \u001b[0mframe P:184   Avg QP:19.26  size:  1770\n",
      "\u001b[1;36m[libx264 @ 0x7f88ae00a000] \u001b[0mframe B:324   Avg QP:16.00  size:   365\n",
      "\u001b[1;36m[libx264 @ 0x7f88ae00a000] \u001b[0mconsecutive B-frames:  0.8% 43.8%  0.6% 54.8%\n",
      "\u001b[1;36m[libx264 @ 0x7f88ae00a000] \u001b[0mmb I  I16..4: 29.7% 62.9%  7.4%\n",
      "\u001b[1;36m[libx264 @ 0x7f88ae00a000] \u001b[0mmb P  I16..4:  0.6%  0.4%  0.1%  P16..4:  2.0%  0.2%  0.3%  0.0%  0.0%    skip:96.3%\n",
      "\u001b[1;36m[libx264 @ 0x7f88ae00a000] \u001b[0mmb B  I16..4:  0.1%  0.0%  0.0%  B16..8:  2.1%  0.0%  0.0%  direct: 0.1%  skip:97.6%  L0:25.9% L1:73.8% BI: 0.3%\n",
      "\u001b[1;36m[libx264 @ 0x7f88ae00a000] \u001b[0m8x8 transform intra:47.3% inter:46.7%\n",
      "\u001b[1;36m[libx264 @ 0x7f88ae00a000] \u001b[0mcoded y,uvDC,uvAC intra: 7.6% 8.6% 5.8% inter: 0.3% 0.5% 0.1%\n",
      "\u001b[1;36m[libx264 @ 0x7f88ae00a000] \u001b[0mi16 v,h,dc,p: 66% 29%  4%  0%\n",
      "\u001b[1;36m[libx264 @ 0x7f88ae00a000] \u001b[0mi8 v,h,dc,ddl,ddr,vr,hd,vl,hu: 50% 10% 39%  0%  0%  0%  0%  0%  0%\n",
      "\u001b[1;36m[libx264 @ 0x7f88ae00a000] \u001b[0mi4 v,h,dc,ddl,ddr,vr,hd,vl,hu: 28% 28% 24%  4%  3%  3%  4%  3%  3%\n",
      "\u001b[1;36m[libx264 @ 0x7f88ae00a000] \u001b[0mi8c dc,h,v,p: 76% 17%  6%  1%\n",
      "\u001b[1;36m[libx264 @ 0x7f88ae00a000] \u001b[0mWeighted P-Frames: Y:0.0% UV:0.0%\n",
      "\u001b[1;36m[libx264 @ 0x7f88ae00a000] \u001b[0mref P L0: 72.9% 15.2%  8.2%  3.7%\n",
      "\u001b[1;36m[libx264 @ 0x7f88ae00a000] \u001b[0mref B L0: 43.2% 51.2%  5.6%\n",
      "\u001b[1;36m[libx264 @ 0x7f88ae00a000] \u001b[0mref B L1: 98.5%  1.5%\n",
      "\u001b[1;36m[libx264 @ 0x7f88ae00a000] \u001b[0mkb/s:242.50\n",
      "ffmpeg version 4.3.1 Copyright (c) 2000-2020 the FFmpeg developers\n",
      "  built with Apple clang version 11.0.3 (clang-1103.0.32.62)\n",
      "  configuration: --prefix=/usr/local/Cellar/ffmpeg/4.3.1_1 --enable-shared --enable-pthreads --enable-version3 --enable-avresample --cc=clang --host-cflags= --host-ldflags= --enable-ffplay --enable-gnutls --enable-gpl --enable-libaom --enable-libbluray --enable-libdav1d --enable-libmp3lame --enable-libopus --enable-librav1e --enable-librubberband --enable-libsnappy --enable-libsrt --enable-libtesseract --enable-libtheora --enable-libvidstab --enable-libvorbis --enable-libvpx --enable-libwebp --enable-libx264 --enable-libx265 --enable-libxml2 --enable-libxvid --enable-lzma --enable-libfontconfig --enable-libfreetype --enable-frei0r --enable-libass --enable-libopencore-amrnb --enable-libopencore-amrwb --enable-libopenjpeg --enable-librtmp --enable-libspeex --enable-libsoxr --enable-videotoolbox --disable-libjack --disable-indev=jack\n",
      "  libavutil      56. 51.100 / 56. 51.100\n",
      "  libavcodec     58. 91.100 / 58. 91.100\n",
      "  libavformat    58. 45.100 / 58. 45.100\n",
      "  libavdevice    58. 10.100 / 58. 10.100\n",
      "  libavfilter     7. 85.100 /  7. 85.100\n",
      "  libavresample   4.  0.  0 /  4.  0.  0\n",
      "  libswscale      5.  7.100 /  5.  7.100\n",
      "  libswresample   3.  7.100 /  3.  7.100\n",
      "  libpostproc    55.  7.100 / 55.  7.100\n",
      "Input #0, mov,mp4,m4a,3gp,3g2,mj2, from 'timelapses/global_confirmed_normalized_timelapse.mp4':\n",
      "  Metadata:\n",
      "    major_brand     : isom\n",
      "    minor_version   : 512\n",
      "    compatible_brands: isomiso2avc1mp41\n",
      "    encoder         : Lavf58.45.100\n",
      "  Duration: 00:00:17.03, start: 0.000000, bitrate: 197 kb/s\n",
      "    Stream #0:0(und): Video: h264 (High) (avc1 / 0x31637661), yuv420p, 2000x1000 [SAR 1:1 DAR 2:1], 194 kb/s, 30 fps, 30 tbr, 15360 tbn, 60 tbc (default)\n",
      "    Metadata:\n",
      "      handler_name    : VideoHandler\n",
      "Stream mapping:\n",
      "  Stream #0:0 -> #0:0 (h264 (native) -> gif (native))\n",
      "Press [q] to stop, [?] for help\n",
      "\u001b[1;34m[swscaler @ 0x7fd100f80000] \u001b[0m\u001b[0;33mNo accelerated colorspace conversion found from yuv420p to bgr8.\n",
      "\u001b[0mOutput #0, gif, to 'timelapses/global_confirmed_normalized_timelapse.gif':\n",
      "  Metadata:\n",
      "    major_brand     : isom\n",
      "    minor_version   : 512\n",
      "    compatible_brands: isomiso2avc1mp41\n",
      "    encoder         : Lavf58.45.100\n",
      "    Stream #0:0(und): Video: gif, bgr8, 2000x1000 [SAR 1:1 DAR 2:1], q=2-31, 200 kb/s, 30 fps, 100 tbn, 30 tbc (default)\n",
      "    Metadata:\n",
      "      handler_name    : VideoHandler\n",
      "      encoder         : Lavc58.91.100 gif\n",
      "frame=  250 fps= 99 q=-0.0 size=    1024kB time=00:00:08.31 bitrate=1009.5kbits/s speed= 3.3x    \r"
     ]
    }
   ],
   "source": [
    "compile_timelapse()"
   ]
  },
  {
   "cell_type": "code",
   "execution_count": null,
   "metadata": {},
   "outputs": [],
   "source": [
    "print(px.colors.sequential.Inferno)"
   ]
  },
  {
   "cell_type": "code",
   "execution_count": null,
   "metadata": {},
   "outputs": [],
   "source": [
    "\"\"\"#Debugging cell\n",
    "with urlopen('https://raw.githubusercontent.com/plotly/datasets/master/geojson-counties-fips.json') as response:\n",
    "        counties = json.load(response)\n",
    "\n",
    "plotly.io.orca.config.executable = '/path/to/orca'\n",
    "plotly.io.orca.config.save()\n",
    "\n",
    "df = pd.read_csv(\"databases/nytimes/us-counties.csv\", dtype={\"fips\": str})\n",
    "df = df[df['date']==\"2020-05-08\"]\n",
    "df['cases'] = 1 / np.log10(df[\"cases\"])\n",
    "\n",
    "Solarcorona = ['rgb(252, 222, 156)', 'rgb(250, 164, 118)', 'rgb(240, 116, 110)', 'rgb(227, 79, 111)', 'rgb(220, 57, 119)', 'rgb(185, 37, 122)', 'rgb(124, 29, 111)', '#1b0c41', '#000004']\n",
    "\n",
    "#Solarcorona = ['rgb(252, 222, 156)', 'rgb(250, 164, 118)', 'rgb(220, 57, 119)', 'rgb(185, 37, 122)', 'rgb(124, 29, 111)', '#1b0c41', '#000004', '#000004', '#000004', '#000004', '#000004', '#000004', '#000004', '#000004', '#000004']\n",
    "\n",
    "fig = px.choropleth(df, geojson=counties, locations='fips', color='cases',\n",
    "                           color_continuous_scale=Solarcorona,\n",
    "                           range_color=(0, 100000),\n",
    "                           scope=\"usa\",\n",
    "                           labels={'cases':'cases'}\n",
    "                          )\n",
    "fig.update_layout(#margin={\"r\":0,\"t\":0,\"l\":0,\"b\":0}),\n",
    "                  title_text = 'USA COVID-19 Cases by County on ' + \"05-08\" + \"              GitHub:briancpark\",\n",
    "coloraxis_colorbar=dict(\n",
    "    title=\"Population\",\n",
    "    ticktext=[\"1M\", \"10M\", \"100M\", \"1B\"],\n",
    "))\n",
    "\n",
    "\n",
    "                    \n",
    "fig.show()\n",
    "\"\"\""
   ]
  },
  {
   "cell_type": "code",
   "execution_count": null,
   "metadata": {},
   "outputs": [],
   "source": [
    "\"\"\"\n",
    "#Debugging cell\n",
    "with urlopen('https://raw.githubusercontent.com/plotly/datasets/master/geojson-counties-fips.json') as response:\n",
    "        counties = json.load(response)\n",
    "\n",
    "plotly.io.orca.config.executable = '/path/to/orca'\n",
    "plotly.io.orca.config.save()\n",
    "\n",
    "df = pd.read_csv(\"databases/nytimes/us-counties.csv\", dtype={\"fips\": str})\n",
    "df = df[df['date']==\"2020-05-08\"]\n",
    "\n",
    "Solarcorona = ['rgb(252, 222, 156)', 'rgb(250, 164, 118)', 'rgb(240, 116, 110)', 'rgb(227, 79, 111)', 'rgb(220, 57, 119)', 'rgb(185, 37, 122)', 'rgb(124, 29, 111)', '#1b0c41', '#000004']\n",
    "\n",
    "#Solarcorona = ['rgb(252, 222, 156)', 'rgb(250, 164, 118)', 'rgb(220, 57, 119)', 'rgb(185, 37, 122)', 'rgb(124, 29, 111)', '#1b0c41', '#000004', '#000004', '#000004', '#000004', '#000004', '#000004', '#000004', '#000004', '#000004']\n",
    "\n",
    "fig = px.choropleth(df, geojson=counties, locations='fips', color='deaths',\n",
    "                           color_continuous_scale=\"Greys\",\n",
    "                           range_color=(0, 100),\n",
    "                           scope=\"usa\",\n",
    "                           labels={'deaths':'deaths'},\n",
    "                          )\n",
    "fig.update_layout(#margin={\"r\":0,\"t\":0,\"l\":0,\"b\":0}),\n",
    "                  title_text = 'USA COVID-19 Deaths by County on ' + \"05-08\" + \"              GitHub:briancpark\")\n",
    "fig.show()\n",
    "\"\"\""
   ]
  },
  {
   "cell_type": "code",
   "execution_count": null,
   "metadata": {},
   "outputs": [],
   "source": [
    "\"\"\"\n",
    "#Debugging this cell\n",
    "\n",
    "df = pd.read_csv(\"databases/nytimes/us-counties.csv\", dtype={\"fips\": str})\n",
    "df['fips'] = pd.to_numeric(df['fips'], errors='coerce')\n",
    "df = df.dropna(subset=['fips'])\n",
    "df['fips'] = df['fips'].astype(int)\n",
    "df = df[df['date']==\"2020-05-05\"]\n",
    "\n",
    "\n",
    "colorscale = [\"#f7fbff\", \"#ebf3fb\", \"#deebf7\", \"#d2e3f3\", \"#c6dbef\", \"#b3d2e9\", \"#9ecae1\",\n",
    "    \"#85bcdb\", \"#6baed6\", \"#57a0ce\", \"#4292c6\", \"#3082be\", \"#2171b5\", \"#1361a9\",\n",
    "    \"#08519c\", \"#0b4083\", \"#08306b\"]\n",
    "    \n",
    "endpts = list(np.linspace(1, 1000, len(colorscale) - 1))\n",
    "fips = df['fips'].tolist()\n",
    "values = df['cases'].tolist()\n",
    "\n",
    "\n",
    "fig = ff.create_choropleth(\n",
    "    fips=fips, values=values, scope=['usa'],\n",
    "    binning_endpoints=endpts, colorscale=colorscale,\n",
    "    show_state_data=False,\n",
    "    show_hover=True,\n",
    "    asp = 2.9,\n",
    "    title_text = 'COVID-19 in USA',\n",
    "    legend_title = 'Cases'\n",
    ")\n",
    "fig.layout.template = None\n",
    "fig.show()\n",
    "\n",
    "\n",
    "#plotly.io.write_image(fig, \"image.png\", format=None, scale=None, width=None, height=None)\n",
    "\"\"\""
   ]
  },
  {
   "cell_type": "markdown",
   "metadata": {},
   "source": [
    "# Machine Learning Methods\n",
    "A start. Goal is to predict coronavirus cases before a lockdown has initiated, and then compare it to real data. I will learn how machine learning works someday"
   ]
  },
  {
   "cell_type": "code",
   "execution_count": null,
   "metadata": {},
   "outputs": [],
   "source": [
    "df = COVID19_US_states.loc[COVID19_US_states['state'] == 'New York'].drop(['fips'], axis=1)\n",
    "pd.to_datetime(df['date'])\n",
    "\n",
    "df = df.set_index(df['date']).drop(['date'], axis=1)\n",
    "df = df.sort_values(by=['date'])\n",
    "\n",
    "#df.plot()\n",
    "\n",
    "#ates_test = \n",
    "nydates = df.index.to_list()[:22]\n",
    "lockdown_dates = df.index.to_list()[22:]\n",
    "\n",
    "df.head(22)"
   ]
  },
  {
   "cell_type": "code",
   "execution_count": null,
   "metadata": {},
   "outputs": [],
   "source": [
    "from scipy.optimize import curve_fit\n",
    "x = np.array(range(len(nydates)))\n",
    "y = np.array(df['cases'].tolist()[:22])\n",
    "\n",
    "def func(x, a, b, c):\n",
    "    return a * np.exp(-b * x) + c\n",
    "\n",
    "popt, pcov = curve_fit(func, x, y, p0=(1, 1e-6, 1))\n",
    "popt"
   ]
  },
  {
   "cell_type": "code",
   "execution_count": null,
   "metadata": {},
   "outputs": [],
   "source": [
    "xx = np.array(range(len(nydates) + len(lockdown_dates)))\n",
    "yy = func(xx, *popt)"
   ]
  },
  {
   "cell_type": "code",
   "execution_count": null,
   "metadata": {},
   "outputs": [],
   "source": [
    "#plt.plot(x, y, 'ko')\n",
    "#plt.plot(xx, yy)\n",
    "plt.plot(df.index.to_list(), df['cases'].to_list())"
   ]
  },
  {
   "cell_type": "markdown",
   "metadata": {},
   "source": [
    "# Drafts and Debugging For More Visualizations!"
   ]
  },
  {
   "cell_type": "code",
   "execution_count": null,
   "metadata": {},
   "outputs": [],
   "source": [
    "import plotly.express as px\n",
    "\n",
    "df = px.data.election()\n",
    "geojson = px.data.election_geojson()\n",
    "\n",
    "#print(df[\"district\"][2])\n",
    "#print(geojson[\"features\"][0][\"properties\"])\n",
    "df = COVID19_US_counties[COVID19_US_counties['state'] == 'Alabama']\n",
    "df = df[df['date'] == '2020-04-01']\n",
    "df"
   ]
  },
  {
   "cell_type": "code",
   "execution_count": null,
   "metadata": {},
   "outputs": [],
   "source": [
    "from urllib.request import urlopen\n",
    "import json\n",
    "with urlopen('https://raw.githubusercontent.com/plotly/datasets/master/geojson-counties-fips.json') as response:\n",
    "    counties = json.load(response)\n",
    "\n",
    "import pandas as pd\n",
    "df = df\n",
    "\n",
    "import plotly.express as px\n",
    "\n",
    "fig = px.choropleth(df, geojson=counties, locations='fips', color='cases',\n",
    "                           color_continuous_scale=\"Viridis\",\n",
    "                           range_color=(0, 10000),\n",
    "                           scope=\"usa\",\n",
    "                           labels={'cases':'cases'}\n",
    "                          )\n",
    "fig.show()"
   ]
  },
  {
   "cell_type": "code",
   "execution_count": null,
   "metadata": {},
   "outputs": [],
   "source": [
    "counties"
   ]
  },
  {
   "cell_type": "code",
   "execution_count": null,
   "metadata": {},
   "outputs": [],
   "source": [
    "def retrieve_state_json(state):\n",
    "    custom = counties.copy()\n",
    "\n",
    "    for county in custom[\"features\"]:\n",
    "        if county['properties'][\"STATE\"] != \"01\":\n",
    "            custom[\"features\"].remove(county)"
   ]
  },
  {
   "cell_type": "code",
   "execution_count": null,
   "metadata": {},
   "outputs": [],
   "source": [
    "custom = counties.copy()\n",
    "\n",
    "for county in custom[\"features\"]:\n",
    "    if county['properties'][\"STATE\"] != \"01\":\n",
    "        custom[\"features\"].remove(county)"
   ]
  },
  {
   "cell_type": "code",
   "execution_count": null,
   "metadata": {},
   "outputs": [],
   "source": [
    "custom"
   ]
  },
  {
   "cell_type": "code",
   "execution_count": null,
   "metadata": {},
   "outputs": [],
   "source": [
    "from urllib.request import urlopen\n",
    "import json\n",
    "with urlopen('https://raw.githubusercontent.com/plotly/datasets/master/geojson-counties-fips.json') as response:\n",
    "    counties = json.load(response)\n",
    "\n",
    "import pandas as pd\n",
    "df = df\n",
    "\n",
    "import plotly.express as px\n",
    "\n",
    "fig = px.choropleth(df, geojson=custom, locations='fips', color='cases',\n",
    "                           color_continuous_scale=\"Viridis\",\n",
    "                           range_color=(0, 10000),\n",
    "                           scope=\"usa\",\n",
    "                           labels={'cases':'cases'}\n",
    "                          )\n",
    "fig.update_geos(fitbounds=\"locations\")\n",
    "fig.show()"
   ]
  },
  {
   "cell_type": "code",
   "execution_count": null,
   "metadata": {},
   "outputs": [],
   "source": [
    "import plotly.express as px\n",
    "\n",
    "df = df\n",
    "geojson = custom\n",
    "\n",
    "fig = px.choropleth(df, geojson=custom, color=\"cases\",\n",
    "                    locations=\"county\", featureidkey=\"01001\",\n",
    "                    projection=\"mercator\"\n",
    "                   )\n",
    "fig.update_geos(fitbounds=\"locations\", visible=True)\n",
    "fig.update_layout(margin={\"r\":0,\"t\":0,\"l\":0,\"b\":0})\n",
    "fig.show()"
   ]
  },
  {
   "cell_type": "code",
   "execution_count": null,
   "metadata": {},
   "outputs": [],
   "source": [
    "custom"
   ]
  },
  {
   "cell_type": "code",
   "execution_count": null,
   "metadata": {
    "scrolled": false
   },
   "outputs": [],
   "source": [
    "custom['features'][0]"
   ]
  },
  {
   "cell_type": "markdown",
   "metadata": {},
   "source": [
    "# BREAK"
   ]
  },
  {
   "cell_type": "code",
   "execution_count": null,
   "metadata": {},
   "outputs": [],
   "source": [
    "#New dataframes\n",
    "mapping = {country.name: country.alpha_3 for country in pycountry.countries}\n",
    "geo_confirmed = COVID19_confirmed.rename(index={'Korea, South': 'Korea, Republic of', 'US' :'United States', 'Taiwan*' :'Taiwan, Province of China', 'Vietnam':'Viet Nam', 'Russia': 'Russian Federation', 'Iran': 'Iran, Islamic Republic of', 'Tanzania': 'Tanzania, United Republic of', 'Laos': \"Lao People's Democratic Republic\", 'Syria': 'Syrian Arab Republic', 'Brunei': 'Brunei Darussalam', 'Venezuela': 'Venezuela, Bolivarian Republic of', 'Bolivia':  'Bolivia, Plurinational State of', 'Moldova': 'Moldova, Republic of'}).rename(index = lambda name: mapping.get(name))\n",
    "geo_deaths = COVID19_deaths.rename(index={'Korea, South': 'Korea, Republic of', 'US' :'United States', 'Taiwan*' :'Taiwan, Province of China', 'Vietnam':'Viet Nam', 'Russia': 'Russian Federation', 'Iran': 'Iran, Islamic Republic of', 'Tanzania': 'Tanzania, United Republic of', 'Laos': \"Lao People's Democratic Republic\", 'Syria': 'Syrian Arab Republic', 'Brunei': 'Brunei Darussalam', 'Venezuela': 'Venezuela, Bolivarian Republic of', 'Bolivia':  'Bolivia, Plurinational State of', 'Moldova': 'Moldova, Republic of'}).rename(index = lambda name: mapping.get(name))\n",
    "geo_recovered = COVID19_recovered.rename(index={'Korea, South': 'Korea, Republic of', 'US' :'United States', 'Taiwan*' :'Taiwan, Province of China', 'Vietnam':'Viet Nam', 'Russia': 'Russian Federation', 'Iran': 'Iran, Islamic Republic of', 'Tanzania': 'Tanzania, United Republic of', 'Laos': \"Lao People's Democratic Republic\", 'Syria': 'Syrian Arab Republic', 'Brunei': 'Brunei Darussalam', 'Venezuela': 'Venezuela, Bolivarian Republic of', 'Bolivia':  'Bolivia, Plurinational State of', 'Moldova': 'Moldova, Republic of'}).rename(index = lambda name: mapping.get(name))"
   ]
  },
  {
   "cell_type": "code",
   "execution_count": null,
   "metadata": {},
   "outputs": [],
   "source": [
    "df = geo_deaths\n",
    "fig = px.choropleth(df, locations=df.index,\n",
    "                    color=\"2020-02-10\", # lifeExp is a column of gapminder\n",
    "                    range_color=(0, 10000),\n",
    "                    color_continuous_scale=Solarcorona,\n",
    "                   )\n",
    "\n",
    "fig.update_layout(\n",
    "    title_text = 'COVID-19 Cases Confirmed                        GitHub: briancpark',\n",
    ")\n",
    "\n",
    "fig.show()\n"
   ]
  },
  {
   "cell_type": "markdown",
   "metadata": {},
   "source": [
    "# Mask Usage\n",
    "Data was provided by the New York Times. Playing around with more data here."
   ]
  },
  {
   "cell_type": "code",
   "execution_count": null,
   "metadata": {},
   "outputs": [],
   "source": [
    "#Load mask usage database\n",
    "US_masks = pd.read_csv(\"databases/nytimes/mask-use/mask-use-by-county.csv\")"
   ]
  },
  {
   "cell_type": "code",
   "execution_count": null,
   "metadata": {},
   "outputs": [],
   "source": [
    "US_masks"
   ]
  },
  {
   "cell_type": "code",
   "execution_count": null,
   "metadata": {},
   "outputs": [],
   "source": [
    "US_masks['COUNTYFP'] = US_masks['COUNTYFP'].apply(lambda x: '{0:0>5}'.format(x))"
   ]
  },
  {
   "cell_type": "code",
   "execution_count": null,
   "metadata": {},
   "outputs": [],
   "source": [
    "fig = px.choropleth(US_masks, geojson=counties, locations='COUNTYFP', color='ALWAYS',\n",
    "                           color_continuous_scale=\"reds\",\n",
    "                           range_color=(0, 1),\n",
    "                           scope=\"usa\",\n",
    "                           labels={'masks':'always'}\n",
    "                          )\n",
    "\n",
    "fig.update_layout(title_text = 'US Citizens Who Always Wears Masks in Social Distancing             GitHub:briancpark')\n",
    "fig.write_html(\"geo/us_mask_usage_html/always.html\")\n",
    "fig.show()"
   ]
  },
  {
   "cell_type": "code",
   "execution_count": null,
   "metadata": {},
   "outputs": [],
   "source": [
    "fig = px.choropleth(US_masks, geojson=counties, locations='COUNTYFP', color='FREQUENTLY',\n",
    "                           color_continuous_scale=\"reds\",\n",
    "                           range_color=(0, 1),\n",
    "                           scope=\"usa\",\n",
    "                           labels={'masks':'always'}\n",
    "                          )\n",
    "\n",
    "fig.update_layout(title_text = 'US Citizens Who Frequently Wears Masks in Social Distancing             GitHub:briancpark')\n",
    "fig.write_html(\"geo/us_mask_usage_html/frequently.html\")\n",
    "fig.show()"
   ]
  },
  {
   "cell_type": "code",
   "execution_count": null,
   "metadata": {},
   "outputs": [],
   "source": [
    "fig = px.choropleth(US_masks, geojson=counties, locations='COUNTYFP', color='SOMETIMES',\n",
    "                           color_continuous_scale=\"reds\",\n",
    "                           range_color=(0, 1),\n",
    "                           scope=\"usa\",\n",
    "                           labels={'masks':'always'}\n",
    "                          )\n",
    "\n",
    "fig.update_layout(title_text = 'US Citizens Who Sometimes Wears Masks in Social Distancing             GitHub:briancpark')\n",
    "fig.write_html(\"geo/us_mask_usage_html/sometimes.html\")\n",
    "fig.show()"
   ]
  },
  {
   "cell_type": "code",
   "execution_count": null,
   "metadata": {},
   "outputs": [],
   "source": [
    "fig = px.choropleth(US_masks, geojson=counties, locations='COUNTYFP', color='RARELY',\n",
    "                           color_continuous_scale=\"reds\",\n",
    "                           range_color=(0, 1),\n",
    "                           scope=\"usa\",\n",
    "                           labels={'masks':'always'}\n",
    "                          )\n",
    "\n",
    "fig.update_layout(title_text = 'US Citizens Who Rarely Wears Masks in Social Distancing             GitHub:briancpark')\n",
    "fig.write_html(\"geo/us_mask_usage_html/rarely.html\")\n",
    "fig.show()"
   ]
  },
  {
   "cell_type": "code",
   "execution_count": null,
   "metadata": {},
   "outputs": [],
   "source": [
    "fig = px.choropleth(US_masks, geojson=counties, locations='COUNTYFP', color='NEVER',\n",
    "                           color_continuous_scale=\"reds\",\n",
    "                           range_color=(0, 1),\n",
    "                           scope=\"usa\",\n",
    "                           labels={'masks':'always'}\n",
    "                          )\n",
    "\n",
    "fig.update_layout(title_text = 'US Citizens Who Never Wears Masks in Social Distancing             GitHub:briancpark')\n",
    "fig.write_html(\"geo/us_mask_usage_html/never.html\")\n",
    "fig.show()"
   ]
  },
  {
   "cell_type": "code",
   "execution_count": null,
   "metadata": {},
   "outputs": [],
   "source": [
    "driver = webdriver.Chrome(ChromeDriverManager().install())\n",
    "driver.get(\"file:///Users/brianpark/Desktop/PUBLISHED%20Projects/COVID19/geo/us_mask_usage_html/always.html\")\n",
    "time.sleep(3)\n",
    "driver.save_screenshot(\"geo/us_mask_usage/always.png\")\n",
    "driver.close()"
   ]
  },
  {
   "cell_type": "code",
   "execution_count": null,
   "metadata": {},
   "outputs": [],
   "source": [
    "driver = webdriver.Chrome(ChromeDriverManager().install())\n",
    "driver.get(\"file:///Users/brianpark/Desktop/PUBLISHED%20Projects/COVID19/geo/us_mask_usage_html/sometimes.html\")\n",
    "time.sleep(3)\n",
    "driver.save_screenshot(\"geo/us_mask_usage/sometimes.png\")\n",
    "driver.close()"
   ]
  },
  {
   "cell_type": "code",
   "execution_count": null,
   "metadata": {},
   "outputs": [],
   "source": [
    "driver = webdriver.Chrome(ChromeDriverManager().install())\n",
    "driver.get(\"file:///Users/brianpark/Desktop/PUBLISHED%20Projects/COVID19/geo/us_mask_usage_html/frequently.html\")\n",
    "time.sleep(3)\n",
    "driver.save_screenshot(\"geo/us_mask_usage/frequently.png\")\n",
    "driver.close()"
   ]
  },
  {
   "cell_type": "code",
   "execution_count": null,
   "metadata": {},
   "outputs": [],
   "source": [
    "driver = webdriver.Chrome(ChromeDriverManager().install())\n",
    "driver.get(\"file:///Users/brianpark/Desktop/PUBLISHED%20Projects/COVID19/geo/us_mask_usage_html/rarely.html\")\n",
    "time.sleep(3)\n",
    "driver.save_screenshot(\"geo/us_mask_usage/rarely.png\")\n",
    "driver.close()"
   ]
  },
  {
   "cell_type": "code",
   "execution_count": null,
   "metadata": {},
   "outputs": [],
   "source": [
    "driver = webdriver.Chrome(ChromeDriverManager().install())\n",
    "driver.get(\"file:///Users/brianpark/Desktop/PUBLISHED%20Projects/COVID19/geo/us_mask_usage_html/never.html\")\n",
    "time.sleep(3)\n",
    "driver.save_screenshot(\"geo/us_mask_usage/never.png\")\n",
    "driver.close()"
   ]
  },
  {
   "cell_type": "code",
   "execution_count": null,
   "metadata": {},
   "outputs": [],
   "source": []
  },
  {
   "cell_type": "code",
   "execution_count": null,
   "metadata": {},
   "outputs": [],
   "source": []
  },
  {
   "cell_type": "code",
   "execution_count": null,
   "metadata": {},
   "outputs": [],
   "source": []
  },
  {
   "cell_type": "code",
   "execution_count": null,
   "metadata": {},
   "outputs": [],
   "source": []
  }
 ],
 "metadata": {
  "kernelspec": {
   "display_name": "Python 3",
   "language": "python",
   "name": "python3"
  },
  "language_info": {
   "codemirror_mode": {
    "name": "ipython",
    "version": 3
   },
   "file_extension": ".py",
   "mimetype": "text/x-python",
   "name": "python",
   "nbconvert_exporter": "python",
   "pygments_lexer": "ipython3",
   "version": "3.8.5"
  }
 },
 "nbformat": 4,
 "nbformat_minor": 4
}
